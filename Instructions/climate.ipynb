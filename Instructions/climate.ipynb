{
 "cells": [
  {
   "cell_type": "code",
   "execution_count": 18,
   "metadata": {},
   "outputs": [],
   "source": [
    "%matplotlib inline\n",
    "from matplotlib import style\n",
    "style.use('fivethirtyeight')\n",
    "import matplotlib.pyplot as plt"
   ]
  },
  {
   "cell_type": "code",
   "execution_count": 19,
   "metadata": {},
   "outputs": [],
   "source": [
    "import numpy as np\n",
    "import pandas as pd"
   ]
  },
  {
   "cell_type": "code",
   "execution_count": 20,
   "metadata": {},
   "outputs": [],
   "source": [
    "import datetime as dt"
   ]
  },
  {
   "cell_type": "markdown",
   "metadata": {},
   "source": [
    "# Reflect Tables into SQLAlchemy ORM"
   ]
  },
  {
   "cell_type": "code",
   "execution_count": 21,
   "metadata": {},
   "outputs": [],
   "source": [
    "# Python SQL toolkit and Object Relational Mapper\n",
    "import sqlalchemy\n",
    "from sqlalchemy.ext.automap import automap_base\n",
    "from sqlalchemy.orm import Session\n",
    "from sqlalchemy import create_engine, func, inspect"
   ]
  },
  {
   "cell_type": "code",
   "execution_count": 34,
   "metadata": {},
   "outputs": [],
   "source": [
    "engine = create_engine(f\"sqlite:///Resources/hawaii.sqlite\")\n",
    "conn = engine.connect()"
   ]
  },
  {
   "cell_type": "code",
   "execution_count": 35,
   "metadata": {},
   "outputs": [],
   "source": [
    "# reflect an existing database into a new model\n",
    "Base = automap_base()\n",
    "# reflect the tables\n",
    "# Use the Base class to reflect the database tables\n",
    "Base.prepare(engine, reflect=True)\n",
    "from sqlalchemy import create_engine"
   ]
  },
  {
   "cell_type": "code",
   "execution_count": 36,
   "metadata": {},
   "outputs": [
    {
     "output_type": "execute_result",
     "data": {
      "text/plain": "['measurement', 'station']"
     },
     "metadata": {},
     "execution_count": 36
    }
   ],
   "source": [
    "# We can view all of the classes that automap found\n",
    "# Print all of the classes mapped to the Base\n",
    "Base.classes.keys()"
   ]
  },
  {
   "cell_type": "code",
   "execution_count": 37,
   "metadata": {},
   "outputs": [],
   "source": [
    "# Save references to each table\n",
    "Measurement = Base.classes.measurement\n",
    "Station = Base.classes.station"
   ]
  },
  {
   "cell_type": "code",
   "execution_count": 38,
   "metadata": {},
   "outputs": [],
   "source": [
    "# Create our session (link) from Python to the DB\n",
    "from sqlalchemy.orm import Session\n",
    "session = Session(bind=engine)\n",
    "inspector = inspect(engine)"
   ]
  },
  {
   "cell_type": "markdown",
   "metadata": {},
   "source": [
    "# Exploratory Climate Analysis"
   ]
  },
  {
   "cell_type": "code",
   "execution_count": 39,
   "metadata": {},
   "outputs": [
    {
     "output_type": "stream",
     "name": "stdout",
     "text": "2017-08-23\n"
    }
   ],
   "source": [
    "# Design a query to retrieve the last 12 months of precipitation data and plot the results\n",
    "\n",
    "# Calculate the date 1 year ago from the last data point in the database\n",
    "\n",
    "most_current_date = session.query(Measurement.date).order_by(Measurement.date.desc()).first()\n",
    "most_current_date = str(most_current_date)[2:-3]\n",
    "\n",
    "print(most_current_date)"
   ]
  },
  {
   "cell_type": "code",
   "execution_count": 40,
   "metadata": {},
   "outputs": [
    {
     "output_type": "stream",
     "name": "stdout",
     "text": "id INTEGER\nstation TEXT\ndate TEXT\nprcp FLOAT\ntobs FLOAT\n"
    }
   ],
   "source": [
    "# Design a query to retrieve the last 12 months of precipitation data and plot the results\n",
    "\n",
    "meas_columns = inspector.get_columns('measurement')\n",
    "for column in meas_columns:\n",
    "    print(column[\"name\"], column[\"type\"])"
   ]
  },
  {
   "cell_type": "code",
   "execution_count": 12,
   "metadata": {},
   "outputs": [
    {
     "output_type": "execute_result",
     "data": {
      "text/plain": "            prcp\ndate            \n2016-08-24  0.08\n2016-08-25  0.08\n2016-08-26  0.00\n2016-08-27  0.00\n2016-08-28  0.01",
      "text/html": "<div>\n<style scoped>\n    .dataframe tbody tr th:only-of-type {\n        vertical-align: middle;\n    }\n\n    .dataframe tbody tr th {\n        vertical-align: top;\n    }\n\n    .dataframe thead th {\n        text-align: right;\n    }\n</style>\n<table border=\"1\" class=\"dataframe\">\n  <thead>\n    <tr style=\"text-align: right;\">\n      <th></th>\n      <th>prcp</th>\n    </tr>\n    <tr>\n      <th>date</th>\n      <th></th>\n    </tr>\n  </thead>\n  <tbody>\n    <tr>\n      <td>2016-08-24</td>\n      <td>0.08</td>\n    </tr>\n    <tr>\n      <td>2016-08-25</td>\n      <td>0.08</td>\n    </tr>\n    <tr>\n      <td>2016-08-26</td>\n      <td>0.00</td>\n    </tr>\n    <tr>\n      <td>2016-08-27</td>\n      <td>0.00</td>\n    </tr>\n    <tr>\n      <td>2016-08-28</td>\n      <td>0.01</td>\n    </tr>\n  </tbody>\n</table>\n</div>"
     },
     "metadata": {},
     "execution_count": 12
    }
   ],
   "source": [
    "# Perform a query to retrieve the data and precipitation scores\n",
    "\n",
    "meas_query = engine.execute('SELECT date , prcp FROM measurement')\n",
    "# meas_query\n",
    "\n",
    "# Save the query results as a Pandas DataFrame and set the index to the date column\n",
    "\n",
    "   ### trying mask ###\n",
    "measurement_df = pd.DataFrame(meas_query)\n",
    "measurement_df = measurement_df.rename(columns={0: 'date', 1: 'prcp'})\n",
    "measurement_df['date'] =  pd.to_datetime(measurement_df['date'], format='%Y-%m-%d')\n",
    "measurement_df.head()\n",
    "mask = (measurement_df['date'] > '2016-08-23') & (measurement_df['date'] <= '2017-08-23')\n",
    "measurement_df_1year = measurement_df.loc[mask]\n",
    "measurement_df_1year = measurement_df_1year.set_index(['date'])\n",
    "\n",
    "# Sort the dataframe by date\n",
    "measurement_df_1year.sort_index()\n",
    "measurement_df_1year.head()\n",
    "# measurement_df_1year.count()"
   ]
  },
  {
   "cell_type": "code",
   "execution_count": 41,
   "metadata": {},
   "outputs": [
    {
     "output_type": "execute_result",
     "data": {
      "text/plain": "            prcp\ndate            \n2016-08-23  0.00\n2016-08-24  0.08\n2016-08-25  0.08\n2016-08-26  0.00\n2016-08-27  0.00",
      "text/html": "<div>\n<style scoped>\n    .dataframe tbody tr th:only-of-type {\n        vertical-align: middle;\n    }\n\n    .dataframe tbody tr th {\n        vertical-align: top;\n    }\n\n    .dataframe thead th {\n        text-align: right;\n    }\n</style>\n<table border=\"1\" class=\"dataframe\">\n  <thead>\n    <tr style=\"text-align: right;\">\n      <th></th>\n      <th>prcp</th>\n    </tr>\n    <tr>\n      <th>date</th>\n      <th></th>\n    </tr>\n  </thead>\n  <tbody>\n    <tr>\n      <td>2016-08-23</td>\n      <td>0.00</td>\n    </tr>\n    <tr>\n      <td>2016-08-24</td>\n      <td>0.08</td>\n    </tr>\n    <tr>\n      <td>2016-08-25</td>\n      <td>0.08</td>\n    </tr>\n    <tr>\n      <td>2016-08-26</td>\n      <td>0.00</td>\n    </tr>\n    <tr>\n      <td>2016-08-27</td>\n      <td>0.00</td>\n    </tr>\n  </tbody>\n</table>\n</div>"
     },
     "metadata": {},
     "execution_count": 41
    }
   ],
   "source": [
    "# Calculate the date 1 year ago from today\n",
    "   ### data provided does not allow for this ###\n",
    "lastDate = session.query(func.Max(Measurement.date)).all()[0][0]\n",
    "prevYear = dt.datetime.strptime(lastDate,'%Y-%m-%d') - dt.timedelta(366)\n",
    "\n",
    "# Perform a query to retrieve the data and precipitation scores\n",
    "results = session.query(Measurement.date, Measurement.prcp).filter(Measurement.date >= prevYear).all()\n",
    "\n",
    "# # Save the query results as a Pandas DataFrame and set the index to the date column\n",
    "df = pd.DataFrame(results).set_index('date')\n",
    "df.head()\n",
    "\n",
    "#    ### trying mask ###\n",
    "# measurement_df = pd.DataFrame(meas_query)\n",
    "# measurement_df = measurement_df.rename(columns={0: 'date', 1: 'prcp'})\n",
    "# measurement_df['date'] =  pd.to_datetime(measurement_df['date'], format='%Y-%m-%d')\n",
    "# measurement_df.head()\n",
    "# mask = (measurement_df['date'] > '2016-08-23') & (measurement_df['date'] <= '2017-08-23')\n",
    "# measurement_df_1year = measurement_df.loc[mask]\n",
    "# measurement_df_1year = measurement_df_1year.set_index(['date'])\n",
    "\n",
    "# # Sort the dataframe by date\n",
    "# measurement_df_1year.sort_index()\n",
    "# measurement_df_1year.head()\n",
    "# measurement_df_1year.count()"
   ]
  },
  {
   "cell_type": "code",
   "execution_count": 14,
   "metadata": {},
   "outputs": [
    {
     "output_type": "error",
     "ename": "AttributeError",
     "evalue": "'DataFrame' object has no attribute 'Measurements'",
     "traceback": [
      "\u001b[1;31m---------------------------------------------------------------------------\u001b[0m",
      "\u001b[1;31mAttributeError\u001b[0m                            Traceback (most recent call last)",
      "\u001b[1;32m<ipython-input-14-57a331e9ab2f>\u001b[0m in \u001b[0;36m<module>\u001b[1;34m\u001b[0m\n\u001b[0;32m      2\u001b[0m \u001b[1;31m#Plotting a simple bar graph to represent the number of reviews per rating\u001b[0m\u001b[1;33m\u001b[0m\u001b[1;33m\u001b[0m\u001b[1;33m\u001b[0m\u001b[0m\n\u001b[0;32m      3\u001b[0m \u001b[1;33m\u001b[0m\u001b[0m\n\u001b[1;32m----> 4\u001b[1;33m \u001b[0mdf\u001b[0m\u001b[1;33m.\u001b[0m\u001b[0mMeasurements\u001b[0m \u001b[1;33m=\u001b[0m \u001b[0mdf\u001b[0m\u001b[1;33m.\u001b[0m\u001b[0mMeasurements\u001b[0m\u001b[1;33m.\u001b[0m\u001b[0mastype\u001b[0m\u001b[1;33m(\u001b[0m\u001b[1;34m'float64'\u001b[0m\u001b[1;33m)\u001b[0m\u001b[1;33m\u001b[0m\u001b[1;33m\u001b[0m\u001b[0m\n\u001b[0m\u001b[0;32m      5\u001b[0m \u001b[0mdf\u001b[0m\u001b[1;33m.\u001b[0m\u001b[0mRating\u001b[0m \u001b[1;33m=\u001b[0m \u001b[0mround\u001b[0m\u001b[1;33m(\u001b[0m\u001b[0mdf\u001b[0m\u001b[1;33m.\u001b[0m\u001b[0mRating\u001b[0m\u001b[1;33m,\u001b[0m\u001b[1;36m0\u001b[0m\u001b[1;33m)\u001b[0m\u001b[1;33m\u001b[0m\u001b[1;33m\u001b[0m\u001b[0m\n\u001b[0;32m      6\u001b[0m \u001b[0mdf\u001b[0m\u001b[1;33m.\u001b[0m\u001b[0mgroupby\u001b[0m\u001b[1;33m(\u001b[0m\u001b[1;34m'Rating'\u001b[0m\u001b[1;33m)\u001b[0m\u001b[1;33m.\u001b[0m\u001b[0mmean\u001b[0m\u001b[1;33m(\u001b[0m\u001b[1;33m)\u001b[0m\u001b[1;33m.\u001b[0m\u001b[0msort_values\u001b[0m\u001b[1;33m(\u001b[0m\u001b[1;34m'Reviews'\u001b[0m\u001b[1;33m)\u001b[0m\u001b[1;33m.\u001b[0m\u001b[0mplot\u001b[0m\u001b[1;33m(\u001b[0m\u001b[0mkind\u001b[0m\u001b[1;33m=\u001b[0m\u001b[1;34m'bar'\u001b[0m\u001b[1;33m,\u001b[0m\u001b[0mcolor\u001b[0m \u001b[1;33m=\u001b[0m \u001b[1;33m[\u001b[0m\u001b[1;34m'orange'\u001b[0m\u001b[1;33m]\u001b[0m\u001b[1;33m)\u001b[0m\u001b[1;33m\u001b[0m\u001b[1;33m\u001b[0m\u001b[0m\n",
      "\u001b[1;32m~\\Anaconda3\\lib\\site-packages\\pandas\\core\\generic.py\u001b[0m in \u001b[0;36m__getattr__\u001b[1;34m(self, name)\u001b[0m\n\u001b[0;32m   5177\u001b[0m             \u001b[1;32mif\u001b[0m \u001b[0mself\u001b[0m\u001b[1;33m.\u001b[0m\u001b[0m_info_axis\u001b[0m\u001b[1;33m.\u001b[0m\u001b[0m_can_hold_identifiers_and_holds_name\u001b[0m\u001b[1;33m(\u001b[0m\u001b[0mname\u001b[0m\u001b[1;33m)\u001b[0m\u001b[1;33m:\u001b[0m\u001b[1;33m\u001b[0m\u001b[1;33m\u001b[0m\u001b[0m\n\u001b[0;32m   5178\u001b[0m                 \u001b[1;32mreturn\u001b[0m \u001b[0mself\u001b[0m\u001b[1;33m[\u001b[0m\u001b[0mname\u001b[0m\u001b[1;33m]\u001b[0m\u001b[1;33m\u001b[0m\u001b[1;33m\u001b[0m\u001b[0m\n\u001b[1;32m-> 5179\u001b[1;33m             \u001b[1;32mreturn\u001b[0m \u001b[0mobject\u001b[0m\u001b[1;33m.\u001b[0m\u001b[0m__getattribute__\u001b[0m\u001b[1;33m(\u001b[0m\u001b[0mself\u001b[0m\u001b[1;33m,\u001b[0m \u001b[0mname\u001b[0m\u001b[1;33m)\u001b[0m\u001b[1;33m\u001b[0m\u001b[1;33m\u001b[0m\u001b[0m\n\u001b[0m\u001b[0;32m   5180\u001b[0m \u001b[1;33m\u001b[0m\u001b[0m\n\u001b[0;32m   5181\u001b[0m     \u001b[1;32mdef\u001b[0m \u001b[0m__setattr__\u001b[0m\u001b[1;33m(\u001b[0m\u001b[0mself\u001b[0m\u001b[1;33m,\u001b[0m \u001b[0mname\u001b[0m\u001b[1;33m,\u001b[0m \u001b[0mvalue\u001b[0m\u001b[1;33m)\u001b[0m\u001b[1;33m:\u001b[0m\u001b[1;33m\u001b[0m\u001b[1;33m\u001b[0m\u001b[0m\n",
      "\u001b[1;31mAttributeError\u001b[0m: 'DataFrame' object has no attribute 'Measurements'"
     ]
    }
   ],
   "source": [
    "\n",
    "# pd.DataFrame.plot()\n",
    "#Plotting a simple bar graph to represent the number of reviews per rating\n",
    "\n",
    "df.Measurements = df.Measurements.astype('float64')\n",
    "df.Rating = round(df.Rating,0)\n",
    "df.groupby('Rating').mean().sort_values('Reviews').plot(kind='bar',color = ['orange'])\n",
    "plt.title('Reviews per Rating')\n",
    "plt.ylabel('Reviews')\n",
    "plt.savefig('Reviews_per_Rating.png')"
   ]
  },
  {
   "cell_type": "code",
   "execution_count": 42,
   "metadata": {},
   "outputs": [
    {
     "output_type": "display_data",
     "data": {
      "text/plain": "<Figure size 432x288 with 1 Axes>",
      "image/svg+xml": "<?xml version=\"1.0\" encoding=\"utf-8\" standalone=\"no\"?>\r\n<!DOCTYPE svg PUBLIC \"-//W3C//DTD SVG 1.1//EN\"\r\n  \"http://www.w3.org/Graphics/SVG/1.1/DTD/svg11.dtd\">\r\n<!-- Created with matplotlib (https://matplotlib.org/) -->\r\n<svg height=\"274.618536pt\" version=\"1.1\" viewBox=\"0 0 416.1925 274.618536\" width=\"416.1925pt\" xmlns=\"http://www.w3.org/2000/svg\" xmlns:xlink=\"http://www.w3.org/1999/xlink\">\r\n <defs>\r\n  <style type=\"text/css\">\r\n*{stroke-linecap:butt;stroke-linejoin:round;}\r\n  </style>\r\n </defs>\r\n <g id=\"figure_1\">\r\n  <g id=\"patch_1\">\r\n   <path d=\"M -0 274.618536 \r\nL 416.1925 274.618536 \r\nL 416.1925 0 \r\nL -0 0 \r\nz\r\n\" style=\"fill:#f0f0f0;\"/>\r\n  </g>\r\n  <g id=\"axes_1\">\r\n   <g id=\"patch_2\">\r\n    <path d=\"M 19.6075 247.159286 \r\nL 408.9925 247.159286 \r\nL 408.9925 11.399286 \r\nL 19.6075 11.399286 \r\nz\r\n\" style=\"fill:#f0f0f0;\"/>\r\n   </g>\r\n   <g id=\"matplotlib.axis_1\">\r\n    <g id=\"text_1\">\r\n     <!-- date -->\r\n     <defs>\r\n      <path d=\"M 45.40625 46.390625 \r\nL 45.40625 75.984375 \r\nL 54.390625 75.984375 \r\nL 54.390625 0 \r\nL 45.40625 0 \r\nL 45.40625 8.203125 \r\nQ 42.578125 3.328125 38.25 0.953125 \r\nQ 33.9375 -1.421875 27.875 -1.421875 \r\nQ 17.96875 -1.421875 11.734375 6.484375 \r\nQ 5.515625 14.40625 5.515625 27.296875 \r\nQ 5.515625 40.1875 11.734375 48.09375 \r\nQ 17.96875 56 27.875 56 \r\nQ 33.9375 56 38.25 53.625 \r\nQ 42.578125 51.265625 45.40625 46.390625 \r\nz\r\nM 14.796875 27.296875 \r\nQ 14.796875 17.390625 18.875 11.75 \r\nQ 22.953125 6.109375 30.078125 6.109375 \r\nQ 37.203125 6.109375 41.296875 11.75 \r\nQ 45.40625 17.390625 45.40625 27.296875 \r\nQ 45.40625 37.203125 41.296875 42.84375 \r\nQ 37.203125 48.484375 30.078125 48.484375 \r\nQ 22.953125 48.484375 18.875 42.84375 \r\nQ 14.796875 37.203125 14.796875 27.296875 \r\nz\r\n\" id=\"DejaVuSans-100\"/>\r\n      <path d=\"M 34.28125 27.484375 \r\nQ 23.390625 27.484375 19.1875 25 \r\nQ 14.984375 22.515625 14.984375 16.5 \r\nQ 14.984375 11.71875 18.140625 8.90625 \r\nQ 21.296875 6.109375 26.703125 6.109375 \r\nQ 34.1875 6.109375 38.703125 11.40625 \r\nQ 43.21875 16.703125 43.21875 25.484375 \r\nL 43.21875 27.484375 \r\nz\r\nM 52.203125 31.203125 \r\nL 52.203125 0 \r\nL 43.21875 0 \r\nL 43.21875 8.296875 \r\nQ 40.140625 3.328125 35.546875 0.953125 \r\nQ 30.953125 -1.421875 24.3125 -1.421875 \r\nQ 15.921875 -1.421875 10.953125 3.296875 \r\nQ 6 8.015625 6 15.921875 \r\nQ 6 25.140625 12.171875 29.828125 \r\nQ 18.359375 34.515625 30.609375 34.515625 \r\nL 43.21875 34.515625 \r\nL 43.21875 35.40625 \r\nQ 43.21875 41.609375 39.140625 45 \r\nQ 35.0625 48.390625 27.6875 48.390625 \r\nQ 23 48.390625 18.546875 47.265625 \r\nQ 14.109375 46.140625 10.015625 43.890625 \r\nL 10.015625 52.203125 \r\nQ 14.9375 54.109375 19.578125 55.046875 \r\nQ 24.21875 56 28.609375 56 \r\nQ 40.484375 56 46.34375 49.84375 \r\nQ 52.203125 43.703125 52.203125 31.203125 \r\nz\r\n\" id=\"DejaVuSans-97\"/>\r\n      <path d=\"M 18.3125 70.21875 \r\nL 18.3125 54.6875 \r\nL 36.8125 54.6875 \r\nL 36.8125 47.703125 \r\nL 18.3125 47.703125 \r\nL 18.3125 18.015625 \r\nQ 18.3125 11.328125 20.140625 9.421875 \r\nQ 21.96875 7.515625 27.59375 7.515625 \r\nL 36.8125 7.515625 \r\nL 36.8125 0 \r\nL 27.59375 0 \r\nQ 17.1875 0 13.234375 3.875 \r\nQ 9.28125 7.765625 9.28125 18.015625 \r\nL 9.28125 47.703125 \r\nL 2.6875 47.703125 \r\nL 2.6875 54.6875 \r\nL 9.28125 54.6875 \r\nL 9.28125 70.21875 \r\nz\r\n\" id=\"DejaVuSans-116\"/>\r\n      <path d=\"M 56.203125 29.59375 \r\nL 56.203125 25.203125 \r\nL 14.890625 25.203125 \r\nQ 15.484375 15.921875 20.484375 11.0625 \r\nQ 25.484375 6.203125 34.421875 6.203125 \r\nQ 39.59375 6.203125 44.453125 7.46875 \r\nQ 49.3125 8.734375 54.109375 11.28125 \r\nL 54.109375 2.78125 \r\nQ 49.265625 0.734375 44.1875 -0.34375 \r\nQ 39.109375 -1.421875 33.890625 -1.421875 \r\nQ 20.796875 -1.421875 13.15625 6.1875 \r\nQ 5.515625 13.8125 5.515625 26.8125 \r\nQ 5.515625 40.234375 12.765625 48.109375 \r\nQ 20.015625 56 32.328125 56 \r\nQ 43.359375 56 49.78125 48.890625 \r\nQ 56.203125 41.796875 56.203125 29.59375 \r\nz\r\nM 47.21875 32.234375 \r\nQ 47.125 39.59375 43.09375 43.984375 \r\nQ 39.0625 48.390625 32.421875 48.390625 \r\nQ 24.90625 48.390625 20.390625 44.140625 \r\nQ 15.875 39.890625 15.1875 32.171875 \r\nz\r\n\" id=\"DejaVuSans-101\"/>\r\n     </defs>\r\n     <g transform=\"translate(195.358 263.924661)scale(0.168 -0.168)\">\r\n      <use xlink:href=\"#DejaVuSans-100\"/>\r\n      <use x=\"63.476562\" xlink:href=\"#DejaVuSans-97\"/>\r\n      <use x=\"124.755859\" xlink:href=\"#DejaVuSans-116\"/>\r\n      <use x=\"163.964844\" xlink:href=\"#DejaVuSans-101\"/>\r\n     </g>\r\n    </g>\r\n   </g>\r\n   <g id=\"matplotlib.axis_2\">\r\n    <g id=\"ytick_1\">\r\n     <g id=\"line2d_1\">\r\n      <path clip-path=\"url(#p9110f68e96)\" d=\"M 19.6075 236.442923 \r\nL 408.9925 236.442923 \r\n\" style=\"fill:none;stroke:#cbcbcb;\"/>\r\n     </g>\r\n     <g id=\"line2d_2\"/>\r\n     <g id=\"text_2\">\r\n      <!-- 0 -->\r\n      <defs>\r\n       <path d=\"M 31.78125 66.40625 \r\nQ 24.171875 66.40625 20.328125 58.90625 \r\nQ 16.5 51.421875 16.5 36.375 \r\nQ 16.5 21.390625 20.328125 13.890625 \r\nQ 24.171875 6.390625 31.78125 6.390625 \r\nQ 39.453125 6.390625 43.28125 13.890625 \r\nQ 47.125 21.390625 47.125 36.375 \r\nQ 47.125 51.421875 43.28125 58.90625 \r\nQ 39.453125 66.40625 31.78125 66.40625 \r\nz\r\nM 31.78125 74.21875 \r\nQ 44.046875 74.21875 50.515625 64.515625 \r\nQ 56.984375 54.828125 56.984375 36.375 \r\nQ 56.984375 17.96875 50.515625 8.265625 \r\nQ 44.046875 -1.421875 31.78125 -1.421875 \r\nQ 19.53125 -1.421875 13.0625 8.265625 \r\nQ 6.59375 17.96875 6.59375 36.375 \r\nQ 6.59375 54.828125 13.0625 64.515625 \r\nQ 19.53125 74.21875 31.78125 74.21875 \r\nz\r\n\" id=\"DejaVuSans-48\"/>\r\n      </defs>\r\n      <g transform=\"translate(7.2 241.761829)scale(0.14 -0.14)\">\r\n       <use xlink:href=\"#DejaVuSans-48\"/>\r\n      </g>\r\n     </g>\r\n    </g>\r\n    <g id=\"ytick_2\">\r\n     <g id=\"line2d_3\">\r\n      <path clip-path=\"url(#p9110f68e96)\" d=\"M 19.6075 204.453777 \r\nL 408.9925 204.453777 \r\n\" style=\"fill:none;stroke:#cbcbcb;\"/>\r\n     </g>\r\n     <g id=\"line2d_4\"/>\r\n     <g id=\"text_3\">\r\n      <!-- 1 -->\r\n      <defs>\r\n       <path d=\"M 12.40625 8.296875 \r\nL 28.515625 8.296875 \r\nL 28.515625 63.921875 \r\nL 10.984375 60.40625 \r\nL 10.984375 69.390625 \r\nL 28.421875 72.90625 \r\nL 38.28125 72.90625 \r\nL 38.28125 8.296875 \r\nL 54.390625 8.296875 \r\nL 54.390625 0 \r\nL 12.40625 0 \r\nz\r\n\" id=\"DejaVuSans-49\"/>\r\n      </defs>\r\n      <g transform=\"translate(7.2 209.772684)scale(0.14 -0.14)\">\r\n       <use xlink:href=\"#DejaVuSans-49\"/>\r\n      </g>\r\n     </g>\r\n    </g>\r\n    <g id=\"ytick_3\">\r\n     <g id=\"line2d_5\">\r\n      <path clip-path=\"url(#p9110f68e96)\" d=\"M 19.6075 172.464632 \r\nL 408.9925 172.464632 \r\n\" style=\"fill:none;stroke:#cbcbcb;\"/>\r\n     </g>\r\n     <g id=\"line2d_6\"/>\r\n     <g id=\"text_4\">\r\n      <!-- 2 -->\r\n      <defs>\r\n       <path d=\"M 19.1875 8.296875 \r\nL 53.609375 8.296875 \r\nL 53.609375 0 \r\nL 7.328125 0 \r\nL 7.328125 8.296875 \r\nQ 12.9375 14.109375 22.625 23.890625 \r\nQ 32.328125 33.6875 34.8125 36.53125 \r\nQ 39.546875 41.84375 41.421875 45.53125 \r\nQ 43.3125 49.21875 43.3125 52.78125 \r\nQ 43.3125 58.59375 39.234375 62.25 \r\nQ 35.15625 65.921875 28.609375 65.921875 \r\nQ 23.96875 65.921875 18.8125 64.3125 \r\nQ 13.671875 62.703125 7.8125 59.421875 \r\nL 7.8125 69.390625 \r\nQ 13.765625 71.78125 18.9375 73 \r\nQ 24.125 74.21875 28.421875 74.21875 \r\nQ 39.75 74.21875 46.484375 68.546875 \r\nQ 53.21875 62.890625 53.21875 53.421875 \r\nQ 53.21875 48.921875 51.53125 44.890625 \r\nQ 49.859375 40.875 45.40625 35.40625 \r\nQ 44.1875 33.984375 37.640625 27.21875 \r\nQ 31.109375 20.453125 19.1875 8.296875 \r\nz\r\n\" id=\"DejaVuSans-50\"/>\r\n      </defs>\r\n      <g transform=\"translate(7.2 177.783538)scale(0.14 -0.14)\">\r\n       <use xlink:href=\"#DejaVuSans-50\"/>\r\n      </g>\r\n     </g>\r\n    </g>\r\n    <g id=\"ytick_4\">\r\n     <g id=\"line2d_7\">\r\n      <path clip-path=\"url(#p9110f68e96)\" d=\"M 19.6075 140.475487 \r\nL 408.9925 140.475487 \r\n\" style=\"fill:none;stroke:#cbcbcb;\"/>\r\n     </g>\r\n     <g id=\"line2d_8\"/>\r\n     <g id=\"text_5\">\r\n      <!-- 3 -->\r\n      <defs>\r\n       <path d=\"M 40.578125 39.3125 \r\nQ 47.65625 37.796875 51.625 33 \r\nQ 55.609375 28.21875 55.609375 21.1875 \r\nQ 55.609375 10.40625 48.1875 4.484375 \r\nQ 40.765625 -1.421875 27.09375 -1.421875 \r\nQ 22.515625 -1.421875 17.65625 -0.515625 \r\nQ 12.796875 0.390625 7.625 2.203125 \r\nL 7.625 11.71875 \r\nQ 11.71875 9.328125 16.59375 8.109375 \r\nQ 21.484375 6.890625 26.8125 6.890625 \r\nQ 36.078125 6.890625 40.9375 10.546875 \r\nQ 45.796875 14.203125 45.796875 21.1875 \r\nQ 45.796875 27.640625 41.28125 31.265625 \r\nQ 36.765625 34.90625 28.71875 34.90625 \r\nL 20.21875 34.90625 \r\nL 20.21875 43.015625 \r\nL 29.109375 43.015625 \r\nQ 36.375 43.015625 40.234375 45.921875 \r\nQ 44.09375 48.828125 44.09375 54.296875 \r\nQ 44.09375 59.90625 40.109375 62.90625 \r\nQ 36.140625 65.921875 28.71875 65.921875 \r\nQ 24.65625 65.921875 20.015625 65.03125 \r\nQ 15.375 64.15625 9.8125 62.3125 \r\nL 9.8125 71.09375 \r\nQ 15.4375 72.65625 20.34375 73.4375 \r\nQ 25.25 74.21875 29.59375 74.21875 \r\nQ 40.828125 74.21875 47.359375 69.109375 \r\nQ 53.90625 64.015625 53.90625 55.328125 \r\nQ 53.90625 49.265625 50.4375 45.09375 \r\nQ 46.96875 40.921875 40.578125 39.3125 \r\nz\r\n\" id=\"DejaVuSans-51\"/>\r\n      </defs>\r\n      <g transform=\"translate(7.2 145.794393)scale(0.14 -0.14)\">\r\n       <use xlink:href=\"#DejaVuSans-51\"/>\r\n      </g>\r\n     </g>\r\n    </g>\r\n    <g id=\"ytick_5\">\r\n     <g id=\"line2d_9\">\r\n      <path clip-path=\"url(#p9110f68e96)\" d=\"M 19.6075 108.486342 \r\nL 408.9925 108.486342 \r\n\" style=\"fill:none;stroke:#cbcbcb;\"/>\r\n     </g>\r\n     <g id=\"line2d_10\"/>\r\n     <g id=\"text_6\">\r\n      <!-- 4 -->\r\n      <defs>\r\n       <path d=\"M 37.796875 64.3125 \r\nL 12.890625 25.390625 \r\nL 37.796875 25.390625 \r\nz\r\nM 35.203125 72.90625 \r\nL 47.609375 72.90625 \r\nL 47.609375 25.390625 \r\nL 58.015625 25.390625 \r\nL 58.015625 17.1875 \r\nL 47.609375 17.1875 \r\nL 47.609375 0 \r\nL 37.796875 0 \r\nL 37.796875 17.1875 \r\nL 4.890625 17.1875 \r\nL 4.890625 26.703125 \r\nz\r\n\" id=\"DejaVuSans-52\"/>\r\n      </defs>\r\n      <g transform=\"translate(7.2 113.805248)scale(0.14 -0.14)\">\r\n       <use xlink:href=\"#DejaVuSans-52\"/>\r\n      </g>\r\n     </g>\r\n    </g>\r\n    <g id=\"ytick_6\">\r\n     <g id=\"line2d_11\">\r\n      <path clip-path=\"url(#p9110f68e96)\" d=\"M 19.6075 76.497197 \r\nL 408.9925 76.497197 \r\n\" style=\"fill:none;stroke:#cbcbcb;\"/>\r\n     </g>\r\n     <g id=\"line2d_12\"/>\r\n     <g id=\"text_7\">\r\n      <!-- 5 -->\r\n      <defs>\r\n       <path d=\"M 10.796875 72.90625 \r\nL 49.515625 72.90625 \r\nL 49.515625 64.59375 \r\nL 19.828125 64.59375 \r\nL 19.828125 46.734375 \r\nQ 21.96875 47.46875 24.109375 47.828125 \r\nQ 26.265625 48.1875 28.421875 48.1875 \r\nQ 40.625 48.1875 47.75 41.5 \r\nQ 54.890625 34.8125 54.890625 23.390625 \r\nQ 54.890625 11.625 47.5625 5.09375 \r\nQ 40.234375 -1.421875 26.90625 -1.421875 \r\nQ 22.3125 -1.421875 17.546875 -0.640625 \r\nQ 12.796875 0.140625 7.71875 1.703125 \r\nL 7.71875 11.625 \r\nQ 12.109375 9.234375 16.796875 8.0625 \r\nQ 21.484375 6.890625 26.703125 6.890625 \r\nQ 35.15625 6.890625 40.078125 11.328125 \r\nQ 45.015625 15.765625 45.015625 23.390625 \r\nQ 45.015625 31 40.078125 35.4375 \r\nQ 35.15625 39.890625 26.703125 39.890625 \r\nQ 22.75 39.890625 18.8125 39.015625 \r\nQ 14.890625 38.140625 10.796875 36.28125 \r\nz\r\n\" id=\"DejaVuSans-53\"/>\r\n      </defs>\r\n      <g transform=\"translate(7.2 81.816103)scale(0.14 -0.14)\">\r\n       <use xlink:href=\"#DejaVuSans-53\"/>\r\n      </g>\r\n     </g>\r\n    </g>\r\n    <g id=\"ytick_7\">\r\n     <g id=\"line2d_13\">\r\n      <path clip-path=\"url(#p9110f68e96)\" d=\"M 19.6075 44.508051 \r\nL 408.9925 44.508051 \r\n\" style=\"fill:none;stroke:#cbcbcb;\"/>\r\n     </g>\r\n     <g id=\"line2d_14\"/>\r\n     <g id=\"text_8\">\r\n      <!-- 6 -->\r\n      <defs>\r\n       <path d=\"M 33.015625 40.375 \r\nQ 26.375 40.375 22.484375 35.828125 \r\nQ 18.609375 31.296875 18.609375 23.390625 \r\nQ 18.609375 15.53125 22.484375 10.953125 \r\nQ 26.375 6.390625 33.015625 6.390625 \r\nQ 39.65625 6.390625 43.53125 10.953125 \r\nQ 47.40625 15.53125 47.40625 23.390625 \r\nQ 47.40625 31.296875 43.53125 35.828125 \r\nQ 39.65625 40.375 33.015625 40.375 \r\nz\r\nM 52.59375 71.296875 \r\nL 52.59375 62.3125 \r\nQ 48.875 64.0625 45.09375 64.984375 \r\nQ 41.3125 65.921875 37.59375 65.921875 \r\nQ 27.828125 65.921875 22.671875 59.328125 \r\nQ 17.53125 52.734375 16.796875 39.40625 \r\nQ 19.671875 43.65625 24.015625 45.921875 \r\nQ 28.375 48.1875 33.59375 48.1875 \r\nQ 44.578125 48.1875 50.953125 41.515625 \r\nQ 57.328125 34.859375 57.328125 23.390625 \r\nQ 57.328125 12.15625 50.6875 5.359375 \r\nQ 44.046875 -1.421875 33.015625 -1.421875 \r\nQ 20.359375 -1.421875 13.671875 8.265625 \r\nQ 6.984375 17.96875 6.984375 36.375 \r\nQ 6.984375 53.65625 15.1875 63.9375 \r\nQ 23.390625 74.21875 37.203125 74.21875 \r\nQ 40.921875 74.21875 44.703125 73.484375 \r\nQ 48.484375 72.75 52.59375 71.296875 \r\nz\r\n\" id=\"DejaVuSans-54\"/>\r\n      </defs>\r\n      <g transform=\"translate(7.2 49.826958)scale(0.14 -0.14)\">\r\n       <use xlink:href=\"#DejaVuSans-54\"/>\r\n      </g>\r\n     </g>\r\n    </g>\r\n    <g id=\"ytick_8\">\r\n     <g id=\"line2d_15\">\r\n      <path clip-path=\"url(#p9110f68e96)\" d=\"M 19.6075 12.518906 \r\nL 408.9925 12.518906 \r\n\" style=\"fill:none;stroke:#cbcbcb;\"/>\r\n     </g>\r\n     <g id=\"line2d_16\"/>\r\n     <g id=\"text_9\">\r\n      <!-- 7 -->\r\n      <defs>\r\n       <path d=\"M 8.203125 72.90625 \r\nL 55.078125 72.90625 \r\nL 55.078125 68.703125 \r\nL 28.609375 0 \r\nL 18.3125 0 \r\nL 43.21875 64.59375 \r\nL 8.203125 64.59375 \r\nz\r\n\" id=\"DejaVuSans-55\"/>\r\n      </defs>\r\n      <g transform=\"translate(7.2 17.837813)scale(0.14 -0.14)\">\r\n       <use xlink:href=\"#DejaVuSans-55\"/>\r\n      </g>\r\n     </g>\r\n    </g>\r\n   </g>\r\n   <g id=\"line2d_17\">\r\n    <path clip-path=\"url(#p9110f68e96)\" d=\"M 19.6075 167.66626 \r\nL 19.6075 163.507672 \r\nL 19.6075 197.416165 \r\nL 20.677239 236.442923 \r\nL 20.677239 236.442923 \r\nL 20.677239 229.725202 \r\nL 20.677239 233.883791 \r\nL 21.746978 235.80314 \r\nL 21.746978 235.163357 \r\nL 21.746978 236.442923 \r\nL 21.746978 236.442923 \r\nL 22.816717 232.604225 \r\nL 22.816717 236.442923 \r\nL 22.816717 230.684876 \r\nM 22.816717 236.442923 \r\nL 22.816717 235.80314 \r\nL 23.886456 231.964442 \r\nL 23.886456 236.123031 \r\nL 23.886456 170.225392 \r\nL 24.956195 236.442923 \r\nM 24.956195 231.004768 \r\nL 24.956195 236.442923 \r\nL 24.956195 207.652692 \r\nL 26.025934 236.442923 \r\nL 26.025934 235.80314 \r\nL 27.095673 232.284334 \r\nL 27.095673 233.244008 \r\nL 27.095673 157.749625 \r\nM 27.095673 228.445636 \r\nL 28.165412 236.442923 \r\nL 28.165412 236.442923 \r\nM 28.165412 236.123031 \r\nL 28.165412 236.442923 \r\nL 29.235151 235.80314 \r\nL 29.235151 236.123031 \r\nL 29.235151 235.483248 \r\nM 29.235151 230.364985 \r\nL 30.30489 236.442923 \r\nL 30.30489 204.453777 \r\nL 30.30489 232.604225 \r\nL 31.374629 235.483248 \r\nL 31.374629 212.770955 \r\nL 31.374629 235.483248 \r\nL 32.444368 235.80314 \r\nM 32.444368 230.684876 \r\nL 32.444368 235.483248 \r\nL 32.444368 232.924117 \r\nM 33.514107 234.843465 \r\nL 33.514107 235.163357 \r\nM 33.514107 204.453777 \r\nL 33.514107 235.483248 \r\nL 34.583846 231.324659 \r\nL 34.583846 193.257577 \r\nL 34.583846 234.843465 \r\nL 35.653585 229.405311 \r\nM 35.653585 234.203682 \r\nL 35.653585 236.442923 \r\nL 35.653585 231.644551 \r\nL 35.653585 236.123031 \r\nL 36.723324 235.483248 \r\nL 36.723324 225.246722 \r\nM 36.723324 236.123031 \r\nL 36.723324 227.16607 \r\nL 36.723324 229.085419 \r\nL 37.793063 231.964442 \r\nL 37.793063 199.335514 \r\nL 37.793063 236.442923 \r\nL 38.862802 230.684876 \r\nL 38.862802 217.249435 \r\nL 38.862802 234.843465 \r\nL 39.932541 203.174212 \r\nM 39.932541 226.526288 \r\nL 39.932541 236.442923 \r\nL 39.932541 231.644551 \r\nM 39.932541 235.163357 \r\nL 41.00228 221.727916 \r\nL 41.00228 226.206396 \r\nM 41.00228 198.055948 \r\nL 41.00228 235.80314 \r\nL 41.00228 225.566613 \r\nL 42.072019 22.11565 \r\nL 42.072019 207.652692 \r\nL 42.072019 194.217251 \r\nM 43.141758 232.604225 \r\nL 43.141758 234.203682 \r\nL 43.141758 129.279286 \r\nM 43.141758 209.891932 \r\nL 43.141758 223.007482 \r\nL 44.211497 236.123031 \r\nL 44.211497 216.929544 \r\nL 44.211497 236.442923 \r\nL 44.211497 236.123031 \r\nL 45.281236 234.843465 \r\nL 45.281236 236.442923 \r\nL 45.281236 224.92683 \r\nL 45.281236 229.085419 \r\nL 46.350975 234.203682 \r\nL 46.350975 236.442923 \r\nL 46.350975 223.007482 \r\nL 47.420714 234.843465 \r\nL 47.420714 236.442923 \r\nM 47.420714 228.445636 \r\nL 48.490453 228.445636 \r\nL 48.490453 236.442923 \r\nL 48.490453 222.68759 \r\nL 48.490453 229.405311 \r\nL 49.560192 234.203682 \r\nL 49.560192 236.442923 \r\nL 49.560192 203.813994 \r\nL 49.560192 234.523574 \r\nL 50.629931 233.563899 \r\nL 50.629931 212.451064 \r\nL 50.629931 236.123031 \r\nL 51.69967 206.373126 \r\nL 51.69967 236.442923 \r\nL 51.69967 231.644551 \r\nL 52.769409 236.442923 \r\nL 52.769409 236.442923 \r\nL 52.769409 227.805853 \r\nL 52.769409 236.442923 \r\nL 53.839148 235.483248 \r\nL 53.839148 235.163357 \r\nL 53.839148 236.442923 \r\nL 53.839148 236.442923 \r\nM 54.908887 203.813994 \r\nL 54.908887 235.80314 \r\nL 54.908887 234.523574 \r\nL 55.978626 204.453777 \r\nL 55.978626 236.442923 \r\nL 55.978626 235.80314 \r\nL 57.048365 236.442923 \r\nL 57.048365 236.442923 \r\nL 57.048365 233.883791 \r\nL 58.118104 230.684876 \r\nL 58.118104 188.779096 \r\nL 58.118104 236.442923 \r\nL 58.118104 235.163357 \r\nL 59.187843 234.523574 \r\nL 59.187843 224.287047 \r\nL 59.187843 236.442923 \r\nL 59.187843 226.526288 \r\nM 60.257582 233.883791 \r\nL 60.257582 203.813994 \r\nL 60.257582 236.442923 \r\nL 60.257582 234.203682 \r\nL 61.327321 236.442923 \r\nL 61.327321 216.929544 \r\nL 61.327321 235.483248 \r\nM 62.39706 221.727916 \r\nL 62.39706 236.442923 \r\nL 62.39706 236.442923 \r\nL 63.466799 236.442923 \r\nL 63.466799 125.76048 \r\nM 63.466799 236.442923 \r\nL 63.466799 235.483248 \r\nL 63.466799 236.442923 \r\nL 64.536538 210.531715 \r\nL 64.536538 236.442923 \r\nL 64.536538 236.123031 \r\nM 64.536538 236.442923 \r\nL 65.606277 236.442923 \r\nL 65.606277 234.203682 \r\nL 65.606277 236.442923 \r\nL 66.676016 236.442923 \r\nL 66.676016 236.442923 \r\nM 66.676016 236.442923 \r\nL 66.676016 236.123031 \r\nL 67.745755 236.442923 \r\nL 67.745755 236.442923 \r\nL 67.745755 235.163357 \r\nL 67.745755 236.442923 \r\nL 69.885234 236.442923 \r\nL 69.885234 236.442923 \r\nM 69.885234 236.442923 \r\nL 70.954973 236.442923 \r\nL 70.954973 225.246722 \r\nM 70.954973 235.163357 \r\nL 72.024712 235.483248 \r\nL 72.024712 236.442923 \r\nL 72.024712 235.80314 \r\nL 73.094451 234.523574 \r\nL 73.094451 236.442923 \r\nL 73.094451 236.442923 \r\nM 74.16419 236.442923 \r\nL 75.233929 236.442923 \r\nL 75.233929 236.442923 \r\nL 75.233929 225.886505 \r\nL 75.233929 235.80314 \r\nL 76.303668 236.442923 \r\nL 76.303668 236.442923 \r\nL 77.373407 236.123031 \r\nM 77.373407 232.604225 \r\nL 77.373407 224.287047 \r\nL 77.373407 235.483248 \r\nL 78.443146 235.80314 \r\nL 78.443146 236.442923 \r\nL 78.443146 221.088133 \r\nL 78.443146 234.843465 \r\nM 79.512885 236.442923 \r\nL 79.512885 232.924117 \r\nL 79.512885 234.523574 \r\nM 79.512885 236.442923 \r\nL 80.582624 236.442923 \r\nL 80.582624 204.453777 \r\nL 80.582624 236.123031 \r\nM 81.652363 236.442923 \r\nL 81.652363 231.644551 \r\nL 81.652363 235.483248 \r\nM 82.722102 233.244008 \r\nL 82.722102 192.617794 \r\nL 82.722102 236.442923 \r\nL 83.791841 236.123031 \r\nL 83.791841 228.765528 \r\nM 83.791841 236.442923 \r\nL 83.791841 236.123031 \r\nM 84.86158 214.050521 \r\nL 84.86158 236.442923 \r\nL 84.86158 236.442923 \r\nL 85.931319 223.647264 \r\nL 85.931319 223.647264 \r\nL 85.931319 236.442923 \r\nL 85.931319 235.483248 \r\nL 87.001058 234.523574 \r\nL 87.001058 236.442923 \r\nL 87.001058 230.045093 \r\nL 88.070797 232.924117 \r\nL 88.070797 196.456491 \r\nL 88.070797 236.442923 \r\nL 88.070797 229.405311 \r\nM 89.140536 236.442923 \r\nL 89.140536 234.523574 \r\nM 89.140536 235.80314 \r\nL 89.140536 224.606939 \r\nL 90.210275 236.442923 \r\nL 90.210275 236.123031 \r\nL 90.210275 228.125745 \r\nL 91.280014 228.765528 \r\nL 91.280014 236.442923 \r\nL 91.280014 206.053235 \r\nL 92.349753 236.442923 \r\nM 92.349753 232.284334 \r\nL 92.349753 193.257577 \r\nL 93.419492 236.442923 \r\nL 93.419492 236.123031 \r\nL 94.489231 236.442923 \r\nL 94.489231 236.442923 \r\nL 94.489231 235.163357 \r\nL 94.489231 236.442923 \r\nL 95.55897 236.442923 \r\nL 95.55897 235.80314 \r\nL 95.55897 236.442923 \r\nM 96.628709 236.442923 \r\nL 96.628709 234.523574 \r\nL 97.698448 235.80314 \r\nL 97.698448 235.80314 \r\nL 97.698448 236.442923 \r\nL 97.698448 224.287047 \r\nL 97.698448 236.442923 \r\nL 98.768187 236.442923 \r\nL 98.768187 236.442923 \r\nL 98.768187 234.843465 \r\nL 98.768187 236.123031 \r\nL 99.837926 236.442923 \r\nM 99.837926 236.442923 \r\nL 99.837926 232.284334 \r\nL 100.907665 234.203682 \r\nL 100.907665 219.488676 \r\nL 100.907665 235.80314 \r\nL 100.907665 229.725202 \r\nL 101.977404 235.163357 \r\nL 101.977404 236.442923 \r\nL 101.977404 231.004768 \r\nL 101.977404 232.924117 \r\nL 103.047143 236.442923 \r\nL 103.047143 236.442923 \r\nL 106.25636 236.442923 \r\nL 106.25636 236.442923 \r\nL 107.326099 235.80314 \r\nL 107.326099 234.523574 \r\nL 107.326099 236.442923 \r\nL 107.326099 234.843465 \r\nL 108.395838 236.442923 \r\nL 108.395838 236.442923 \r\nM 108.395838 234.843465 \r\nL 108.395838 236.442923 \r\nL 108.395838 236.442923 \r\nL 109.465577 231.964442 \r\nL 109.465577 207.3328 \r\nL 109.465577 236.442923 \r\nM 110.535316 236.442923 \r\nL 110.535316 235.483248 \r\nL 110.535316 236.442923 \r\nL 111.605055 236.442923 \r\nL 111.605055 236.123031 \r\nM 111.605055 235.80314 \r\nL 111.605055 236.442923 \r\nL 112.674794 232.924117 \r\nL 112.674794 235.483248 \r\nL 112.674794 232.284334 \r\nL 112.674794 232.924117 \r\nL 113.744533 223.967156 \r\nM 113.744533 232.924117 \r\nL 113.744533 234.843465 \r\nL 113.744533 223.647264 \r\nL 114.814272 236.123031 \r\nL 114.814272 144.634076 \r\nM 114.814272 234.203682 \r\nL 114.814272 235.80314 \r\nL 114.814272 232.924117 \r\nL 115.884011 170.865175 \r\nM 115.884011 226.526288 \r\nL 115.884011 232.284334 \r\nL 115.884011 168.945826 \r\nL 115.884011 223.327373 \r\nL 116.95375 229.405311 \r\nL 116.95375 235.483248 \r\nL 116.95375 231.964442 \r\nM 116.95375 228.445636 \r\nL 118.023489 213.410738 \r\nL 118.023489 234.843465 \r\nL 118.023489 229.725202 \r\nL 119.093228 234.843465 \r\nL 119.093228 234.843465 \r\nL 119.093228 203.494103 \r\nM 119.093228 232.924117 \r\nL 120.162967 226.846179 \r\nL 120.162967 235.80314 \r\nL 120.162967 234.843465 \r\nL 121.232706 236.442923 \r\nL 121.232706 227.16607 \r\nL 121.232706 235.483248 \r\nL 122.302445 236.442923 \r\nL 122.302445 236.442923 \r\nL 122.302445 235.80314 \r\nM 122.302445 214.370412 \r\nL 122.302445 236.442923 \r\nL 123.372184 235.163357 \r\nL 123.372184 234.523574 \r\nL 123.372184 235.163357 \r\nM 123.372184 230.045093 \r\nL 123.372184 236.442923 \r\nL 124.441923 236.442923 \r\nL 124.441923 234.843465 \r\nL 124.441923 234.843465 \r\nM 124.441923 231.964442 \r\nL 124.441923 211.171498 \r\nL 125.511662 232.604225 \r\nL 125.511662 213.410738 \r\nL 125.511662 234.203682 \r\nM 125.511662 224.606939 \r\nL 125.511662 231.324659 \r\nL 126.581401 236.123031 \r\nL 126.581401 226.846179 \r\nM 126.581401 195.816708 \r\nL 126.581401 225.246722 \r\nL 127.65114 235.80314 \r\nL 127.65114 184.620507 \r\nL 127.65114 236.442923 \r\nL 127.65114 235.163357 \r\nL 128.720879 235.163357 \r\nL 128.720879 226.206396 \r\nL 128.720879 236.442923 \r\nL 128.720879 233.244008 \r\nL 129.790618 229.405311 \r\nL 129.790618 230.045093 \r\nM 129.790618 222.68759 \r\nL 129.790618 185.26029 \r\nL 129.790618 225.566613 \r\nL 130.860357 236.442923 \r\nL 130.860357 236.442923 \r\nM 130.860357 236.442923 \r\nL 130.860357 235.80314 \r\nL 131.930096 231.004768 \r\nM 131.930096 232.604225 \r\nL 131.930096 236.442923 \r\nL 132.999835 227.805853 \r\nL 132.999835 236.123031 \r\nL 132.999835 235.80314 \r\nL 134.069574 223.007482 \r\nL 134.069574 225.566613 \r\nL 134.069574 219.808567 \r\nM 134.069574 228.125745 \r\nL 134.069574 226.526288 \r\nL 135.139313 235.80314 \r\nL 135.139313 235.80314 \r\nM 135.139313 236.442923 \r\nL 135.139313 234.843465 \r\nL 136.209052 234.523574 \r\nL 136.209052 236.442923 \r\nL 136.209052 232.284334 \r\nL 136.209052 235.80314 \r\nL 137.278791 236.442923 \r\nM 137.278791 236.123031 \r\nL 137.278791 235.80314 \r\nL 137.278791 236.442923 \r\nL 138.34853 233.244008 \r\nM 138.34853 234.843465 \r\nL 138.34853 235.163357 \r\nL 138.34853 225.566613 \r\nL 139.418269 232.604225 \r\nL 139.418269 207.012909 \r\nL 139.418269 234.843465 \r\nM 139.418269 235.483248 \r\nL 139.418269 234.843465 \r\nM 140.488008 231.964442 \r\nL 140.488008 236.442923 \r\nL 140.488008 235.80314 \r\nL 141.557747 236.123031 \r\nL 141.557747 236.442923 \r\nM 141.557747 235.483248 \r\nL 141.557747 236.442923 \r\nL 141.557747 236.442923 \r\nL 142.627486 236.123031 \r\nL 142.627486 236.442923 \r\nL 142.627486 231.324659 \r\nL 143.697225 235.163357 \r\nL 143.697225 227.16607 \r\nM 143.697225 227.805853 \r\nL 144.766964 236.442923 \r\nL 144.766964 235.483248 \r\nL 144.766964 235.80314 \r\nM 144.766964 229.725202 \r\nL 144.766964 236.123031 \r\nL 145.836703 236.442923 \r\nL 145.836703 236.442923 \r\nM 145.836703 236.442923 \r\nL 145.836703 235.80314 \r\nL 145.836703 236.123031 \r\nL 146.906442 234.523574 \r\nL 146.906442 218.848893 \r\nL 146.906442 236.442923 \r\nL 146.906442 232.924117 \r\nL 147.976181 234.843465 \r\nM 147.976181 231.004768 \r\nL 147.976181 196.776383 \r\nL 147.976181 236.123031 \r\nL 149.04592 233.244008 \r\nL 149.04592 209.891932 \r\nM 149.04592 235.80314 \r\nL 149.04592 236.123031 \r\nL 149.04592 235.483248 \r\nL 150.115659 231.964442 \r\nL 150.115659 236.123031 \r\nL 150.115659 201.894646 \r\nL 150.115659 230.045093 \r\nL 151.185398 236.442923 \r\nL 151.185398 236.442923 \r\nL 151.185398 224.287047 \r\nL 151.185398 235.80314 \r\nL 152.255137 235.80314 \r\nL 152.255137 229.405311 \r\nM 152.255137 189.098988 \r\nL 152.255137 228.125745 \r\nL 153.324876 234.843465 \r\nL 153.324876 236.442923 \r\nL 153.324876 231.964442 \r\nL 153.324876 235.483248 \r\nL 154.394615 233.563899 \r\nL 154.394615 236.123031 \r\nL 154.394615 231.964442 \r\nM 155.464354 230.684876 \r\nL 155.464354 203.494103 \r\nL 155.464354 235.163357 \r\nM 156.534093 160.628648 \r\nL 156.534093 232.604225 \r\nL 156.534093 227.16607 \r\nM 156.534093 234.203682 \r\nL 156.534093 227.16607 \r\nL 156.534093 229.725202 \r\nL 157.603832 216.609653 \r\nL 157.603832 207.652692 \r\nL 157.603832 236.123031 \r\nL 158.673571 227.16607 \r\nL 158.673571 236.442923 \r\nL 158.673571 235.483248 \r\nM 158.673571 235.483248 \r\nL 158.673571 236.442923 \r\nL 159.74331 236.123031 \r\nL 159.74331 236.442923 \r\nL 159.74331 236.442923 \r\nL 160.813049 236.442923 \r\nL 160.813049 236.442923 \r\nM 160.813049 236.442923 \r\nL 161.882788 236.442923 \r\nL 161.882788 236.442923 \r\nL 161.882788 230.684876 \r\nL 161.882788 236.442923 \r\nL 162.952527 221.408024 \r\nL 162.952527 236.442923 \r\nL 162.952527 236.442923 \r\nL 164.022266 233.244008 \r\nL 164.022266 217.569327 \r\nL 164.022266 236.442923 \r\nL 164.022266 233.244008 \r\nL 165.092005 236.442923 \r\nL 165.092005 236.442923 \r\nL 165.092005 234.523574 \r\nL 165.092005 236.442923 \r\nL 166.161745 236.442923 \r\nL 166.161745 235.483248 \r\nL 166.161745 235.483248 \r\nL 167.231484 236.442923 \r\nL 167.231484 236.442923 \r\nM 167.231484 236.442923 \r\nM 168.301223 236.442923 \r\nL 169.370962 236.442923 \r\nL 169.370962 236.442923 \r\nM 169.370962 236.442923 \r\nL 170.440701 236.442923 \r\nL 170.440701 236.442923 \r\nM 170.440701 236.442923 \r\nM 171.51044 236.442923 \r\nM 172.580179 236.123031 \r\nL 172.580179 236.442923 \r\nL 172.580179 236.442923 \r\nL 173.649918 236.442923 \r\nL 173.649918 236.442923 \r\nM 173.649918 236.442923 \r\nL 173.649918 236.123031 \r\nL 174.719657 236.442923 \r\nM 174.719657 236.442923 \r\nL 175.789396 236.442923 \r\nL 175.789396 236.442923 \r\nM 176.859135 236.442923 \r\nL 176.859135 234.203682 \r\nL 176.859135 236.442923 \r\nL 177.928874 236.442923 \r\nL 177.928874 236.442923 \r\nM 177.928874 236.442923 \r\nL 177.928874 235.80314 \r\nL 177.928874 236.442923 \r\nL 178.998613 236.442923 \r\nL 178.998613 236.442923 \r\nM 178.998613 236.442923 \r\nL 180.068352 236.442923 \r\nL 180.068352 232.924117 \r\nL 180.068352 235.80314 \r\nL 181.138091 231.324659 \r\nL 181.138091 213.410738 \r\nL 181.138091 236.123031 \r\nL 181.138091 235.163357 \r\nM 182.20783 236.442923 \r\nL 182.20783 236.123031 \r\nM 182.20783 209.252149 \r\nL 182.20783 236.442923 \r\nL 183.277569 232.284334 \r\nM 183.277569 233.883791 \r\nL 183.277569 235.163357 \r\nL 183.277569 177.263004 \r\nL 183.277569 231.644551 \r\nM 184.347308 236.442923 \r\nL 184.347308 151.991579 \r\nM 184.347308 235.483248 \r\nL 184.347308 211.171498 \r\nL 185.417047 236.442923 \r\nL 185.417047 236.442923 \r\nL 185.417047 233.244008 \r\nL 186.486786 235.483248 \r\nL 186.486786 235.483248 \r\nL 186.486786 236.442923 \r\nL 186.486786 236.442923 \r\nL 187.556525 236.442923 \r\nL 187.556525 236.442923 \r\nL 187.556525 231.964442 \r\nM 188.626264 228.125745 \r\nL 188.626264 236.442923 \r\nL 188.626264 218.848893 \r\nL 189.696003 236.442923 \r\nM 189.696003 236.442923 \r\nL 195.044698 236.442923 \r\nL 195.044698 236.442923 \r\nM 195.044698 236.442923 \r\nL 196.114437 236.442923 \r\nL 196.114437 236.442923 \r\nM 196.114437 236.442923 \r\nL 197.184176 230.684876 \r\nL 197.184176 236.442923 \r\nM 197.184176 236.442923 \r\nL 198.253915 207.652692 \r\nL 198.253915 236.442923 \r\nL 198.253915 178.862461 \r\nL 199.323654 236.442923 \r\nL 199.323654 236.442923 \r\nL 199.323654 201.894646 \r\nL 199.323654 236.442923 \r\nL 200.393393 236.442923 \r\nL 200.393393 236.442923 \r\nL 200.393393 235.80314 \r\nL 201.463132 236.442923 \r\nL 201.463132 236.442923 \r\nL 202.532871 204.453777 \r\nL 202.532871 226.526288 \r\nL 202.532871 75.217631 \r\nL 203.60261 177.902787 \r\nL 203.60261 234.203682 \r\nL 203.60261 141.11527 \r\nL 204.672349 236.123031 \r\nL 204.672349 143.674402 \r\nL 204.672349 236.442923 \r\nL 204.672349 236.442923 \r\nM 204.672349 236.442923 \r\nL 205.742088 236.442923 \r\nL 205.742088 236.123031 \r\nL 205.742088 236.442923 \r\nL 206.811827 234.203682 \r\nL 206.811827 236.442923 \r\nM 206.811827 236.442923 \r\nM 207.881566 216.609653 \r\nL 207.881566 215.010195 \r\nL 207.881566 236.442923 \r\nM 207.881566 213.090847 \r\nL 207.881566 232.284334 \r\nL 208.951305 234.523574 \r\nL 208.951305 234.523574 \r\nL 208.951305 210.851606 \r\nL 208.951305 236.442923 \r\nL 208.951305 232.284334 \r\nL 210.021044 236.442923 \r\nL 210.021044 236.442923 \r\nM 211.090783 233.244008 \r\nL 211.090783 236.442923 \r\nL 211.090783 233.563899 \r\nL 212.160522 236.442923 \r\nL 212.160522 236.442923 \r\nM 212.160522 236.442923 \r\nL 213.230261 236.442923 \r\nM 213.230261 234.203682 \r\nL 213.230261 236.442923 \r\nL 213.230261 236.442923 \r\nL 214.3 234.523574 \r\nL 214.3 226.206396 \r\nL 214.3 232.924117 \r\nL 215.369739 236.442923 \r\nL 215.369739 236.442923 \r\nL 216.439478 236.442923 \r\nL 216.439478 236.442923 \r\nL 217.509217 235.483248 \r\nL 217.509217 236.442923 \r\nL 217.509217 232.604225 \r\nL 218.578956 236.442923 \r\nL 218.578956 236.442923 \r\nM 218.578956 236.442923 \r\nM 219.648695 236.442923 \r\nM 220.718434 236.442923 \r\nL 220.718434 217.889218 \r\nL 220.718434 231.324659 \r\nL 221.788173 168.625935 \r\nL 221.788173 159.668974 \r\nL 221.788173 217.569327 \r\nL 221.788173 172.464632 \r\nL 222.857912 213.090847 \r\nL 222.857912 222.367699 \r\nL 222.857912 176.30333 \r\nL 223.927651 218.529001 \r\nL 223.927651 228.445636 \r\nM 223.927651 219.168784 \r\nL 223.927651 231.964442 \r\nL 224.99739 236.442923 \r\nL 224.99739 236.442923 \r\nL 226.067129 225.246722 \r\nL 226.067129 223.327373 \r\nL 226.067129 233.244008 \r\nM 227.136868 235.483248 \r\nL 227.136868 236.442923 \r\nL 227.136868 220.128458 \r\nL 227.136868 236.442923 \r\nM 228.206607 236.442923 \r\nM 228.206607 236.442923 \r\nL 229.276346 236.442923 \r\nL 229.276346 236.442923 \r\nM 229.276346 236.442923 \r\nL 230.346085 236.123031 \r\nL 230.346085 236.442923 \r\nL 230.346085 210.851606 \r\nM 231.415824 236.442923 \r\nL 231.415824 232.284334 \r\nL 231.415824 236.442923 \r\nL 232.485563 236.442923 \r\nL 232.485563 236.442923 \r\nL 232.485563 235.483248 \r\nL 232.485563 236.442923 \r\nL 233.555302 236.442923 \r\nM 233.555302 236.442923 \r\nL 234.625041 236.442923 \r\nL 234.625041 236.442923 \r\nM 234.625041 236.442923 \r\nL 235.69478 236.442923 \r\nL 235.69478 236.442923 \r\nL 235.69478 234.523574 \r\nL 235.69478 236.442923 \r\nL 236.764519 236.442923 \r\nL 236.764519 234.523574 \r\nL 236.764519 236.442923 \r\nL 237.834258 236.442923 \r\nL 237.834258 236.442923 \r\nM 237.834258 236.442923 \r\nM 237.834258 236.442923 \r\nL 238.903997 232.604225 \r\nM 238.903997 236.442923 \r\nL 238.903997 225.246722 \r\nL 238.903997 230.364985 \r\nL 239.973736 236.442923 \r\nM 239.973736 236.442923 \r\nL 242.113214 236.442923 \r\nL 242.113214 236.442923 \r\nL 242.113214 235.80314 \r\nL 242.113214 236.442923 \r\nM 243.182953 236.442923 \r\nL 243.182953 233.563899 \r\nL 243.182953 236.442923 \r\nL 244.252692 236.442923 \r\nL 244.252692 236.442923 \r\nL 245.322431 235.80314 \r\nL 245.322431 235.483248 \r\nL 245.322431 236.442923 \r\nL 245.322431 236.442923 \r\nL 246.39217 217.249435 \r\nL 246.39217 235.80314 \r\nL 246.39217 232.604225 \r\nL 247.461909 221.088133 \r\nL 247.461909 206.693018 \r\nL 247.461909 236.442923 \r\nL 247.461909 222.68759 \r\nL 248.531648 236.442923 \r\nL 248.531648 236.442923 \r\nL 249.601387 236.442923 \r\nL 249.601387 236.123031 \r\nL 249.601387 236.442923 \r\nM 249.601387 236.442923 \r\nL 250.671126 236.442923 \r\nL 250.671126 235.483248 \r\nL 250.671126 236.442923 \r\nM 250.671126 236.442923 \r\nL 250.671126 214.690304 \r\nL 250.671126 236.442923 \r\nL 251.740865 235.483248 \r\nL 251.740865 236.442923 \r\nL 251.740865 233.883791 \r\nL 251.740865 236.123031 \r\nM 252.810604 235.163357 \r\nL 252.810604 233.883791 \r\nL 252.810604 236.442923 \r\nM 252.810604 236.442923 \r\nL 252.810604 235.483248 \r\nL 253.880343 236.123031 \r\nL 253.880343 236.442923 \r\nL 253.880343 236.442923 \r\nM 253.880343 236.442923 \r\nL 254.950082 236.442923 \r\nL 254.950082 229.725202 \r\nL 254.950082 236.442923 \r\nL 256.019821 236.442923 \r\nL 256.019821 236.442923 \r\nL 257.08956 233.883791 \r\nL 257.08956 236.442923 \r\nL 257.08956 228.125745 \r\nM 258.159299 235.163357 \r\nL 258.159299 236.442923 \r\nL 258.159299 233.563899 \r\nL 258.159299 236.442923 \r\nL 259.229038 236.442923 \r\nL 259.229038 222.047807 \r\nL 259.229038 236.442923 \r\nL 260.298777 236.442923 \r\nL 260.298777 236.442923 \r\nL 260.298777 234.523574 \r\nL 261.368516 236.442923 \r\nL 261.368516 236.442923 \r\nL 262.438255 236.442923 \r\nL 262.438255 236.442923 \r\nM 263.507995 236.442923 \r\nM 264.577734 236.123031 \r\nL 264.577734 236.442923 \r\nL 264.577734 236.123031 \r\nL 265.647473 228.445636 \r\nL 265.647473 236.442923 \r\nL 265.647473 231.324659 \r\nM 265.647473 235.483248 \r\nL 266.717212 232.924117 \r\nL 266.717212 236.442923 \r\nM 266.717212 236.442923 \r\nL 266.717212 215.649978 \r\nL 266.717212 227.16607 \r\nL 267.786951 236.442923 \r\nL 267.786951 227.805853 \r\nL 267.786951 236.442923 \r\nM 267.786951 229.085419 \r\nL 267.786951 217.569327 \r\nL 267.786951 236.442923 \r\nL 268.85669 228.125745 \r\nL 268.85669 146.233533 \r\nL 268.85669 227.16607 \r\nL 269.926429 236.123031 \r\nL 269.926429 207.652692 \r\nL 269.926429 236.442923 \r\nL 269.926429 222.047807 \r\nL 270.996168 221.408024 \r\nL 270.996168 236.442923 \r\nL 270.996168 220.768241 \r\nL 270.996168 232.924117 \r\nM 272.065907 235.80314 \r\nL 272.065907 194.857034 \r\nM 272.065907 226.846179 \r\nL 272.065907 203.174212 \r\nL 273.135646 236.442923 \r\nL 273.135646 231.644551 \r\nL 273.135646 171.504958 \r\nL 274.205385 235.80314 \r\nM 274.205385 236.442923 \r\nL 274.205385 231.964442 \r\nL 274.205385 236.442923 \r\nM 275.275124 236.442923 \r\nL 275.275124 225.246722 \r\nL 275.275124 234.843465 \r\nL 276.344863 229.085419 \r\nL 276.344863 160.94854 \r\nL 276.344863 180.78181 \r\nM 276.344863 202.85432 \r\nL 277.414602 226.206396 \r\nL 277.414602 185.900073 \r\nL 277.414602 214.050521 \r\nL 278.484341 235.483248 \r\nL 278.484341 225.246722 \r\nL 278.484341 235.80314 \r\nL 279.55408 236.442923 \r\nM 279.55408 234.843465 \r\nL 279.55408 236.123031 \r\nM 279.55408 236.442923 \r\nL 280.623819 236.442923 \r\nL 280.623819 236.442923 \r\nM 280.623819 236.442923 \r\nL 281.693558 231.964442 \r\nL 281.693558 236.442923 \r\nL 281.693558 229.405311 \r\nL 282.763297 236.442923 \r\nL 282.763297 230.364985 \r\nM 282.763297 235.80314 \r\nL 282.763297 236.442923 \r\nL 282.763297 232.924117 \r\nL 282.763297 233.244008 \r\nL 283.833036 236.442923 \r\nL 283.833036 236.442923 \r\nL 283.833036 211.171498 \r\nL 283.833036 233.563899 \r\nM 283.833036 153.271145 \r\nL 284.902775 206.053235 \r\nL 284.902775 36.510765 \r\nL 284.902775 236.442923 \r\nL 285.972514 194.537142 \r\nL 285.972514 210.851606 \r\nL 285.972514 197.736057 \r\nL 287.042253 228.125745 \r\nL 287.042253 235.483248 \r\nL 288.111992 235.483248 \r\nL 288.111992 236.442923 \r\nL 288.111992 236.442923 \r\nL 289.181731 236.123031 \r\nL 289.181731 236.123031 \r\nL 289.181731 236.442923 \r\nL 289.181731 236.442923 \r\nL 290.25147 236.442923 \r\nM 290.25147 236.442923 \r\nL 290.25147 233.883791 \r\nL 291.321209 236.442923 \r\nL 291.321209 236.442923 \r\nL 291.321209 227.485962 \r\nL 291.321209 236.442923 \r\nL 292.390948 234.523574 \r\nL 292.390948 236.442923 \r\nL 292.390948 236.442923 \r\nL 293.460687 235.483248 \r\nL 293.460687 234.203682 \r\nL 293.460687 236.442923 \r\nL 293.460687 236.442923 \r\nL 294.530426 236.442923 \r\nL 294.530426 200.934971 \r\nL 294.530426 213.090847 \r\nL 295.600165 184.620507 \r\nL 295.600165 229.085419 \r\nL 295.600165 219.808567 \r\nL 296.669904 218.848893 \r\nL 296.669904 236.442923 \r\nL 296.669904 230.045093 \r\nL 297.739643 236.442923 \r\nL 297.739643 222.367699 \r\nL 297.739643 235.483248 \r\nL 298.809382 236.442923 \r\nM 298.809382 233.244008 \r\nL 298.809382 236.442923 \r\nL 298.809382 235.163357 \r\nL 299.879121 233.244008 \r\nL 299.879121 236.442923 \r\nL 299.879121 232.604225 \r\nL 299.879121 236.442923 \r\nL 300.94886 236.442923 \r\nL 300.94886 236.442923 \r\nL 300.94886 204.453777 \r\nM 302.018599 233.563899 \r\nL 302.018599 234.843465 \r\nL 302.018599 217.249435 \r\nL 302.018599 234.523574 \r\nL 303.088338 235.483248 \r\nL 303.088338 226.846179 \r\nL 303.088338 236.442923 \r\nL 304.158077 235.80314 \r\nL 304.158077 236.442923 \r\nL 304.158077 234.203682 \r\nL 305.227816 232.284334 \r\nL 305.227816 236.442923 \r\nL 305.227816 221.727916 \r\nL 305.227816 233.563899 \r\nL 306.297555 235.80314 \r\nL 306.297555 236.442923 \r\nL 306.297555 236.123031 \r\nL 307.367294 236.442923 \r\nM 307.367294 235.80314 \r\nL 307.367294 236.123031 \r\nM 307.367294 236.442923 \r\nL 308.437033 236.442923 \r\nL 308.437033 236.123031 \r\nL 308.437033 236.442923 \r\nL 309.506772 226.846179 \r\nM 309.506772 234.523574 \r\nL 309.506772 236.442923 \r\nL 309.506772 236.442923 \r\nL 310.576511 236.442923 \r\nL 310.576511 222.367699 \r\nL 310.576511 233.883791 \r\nL 311.64625 226.846179 \r\nL 311.64625 233.244008 \r\nL 311.64625 167.026477 \r\nL 311.64625 217.889218 \r\nL 312.715989 218.848893 \r\nL 312.715989 208.292475 \r\nL 312.715989 234.203682 \r\nL 312.715989 230.045093 \r\nL 313.785728 235.80314 \r\nL 313.785728 236.442923 \r\nL 313.785728 236.442923 \r\nL 314.855467 236.442923 \r\nL 314.855467 236.442923 \r\nL 314.855467 220.44835 \r\nL 315.925206 235.80314 \r\nL 315.925206 235.80314 \r\nL 315.925206 227.16607 \r\nL 315.925206 236.442923 \r\nL 315.925206 236.442923 \r\nL 316.994945 236.442923 \r\nL 316.994945 236.442923 \r\nL 316.994945 223.647264 \r\nL 316.994945 236.442923 \r\nL 318.064684 232.924117 \r\nM 318.064684 200.61508 \r\nL 318.064684 235.163357 \r\nL 319.134423 235.80314 \r\nL 319.134423 236.442923 \r\nL 319.134423 228.445636 \r\nL 319.134423 236.442923 \r\nL 320.204162 236.442923 \r\nL 320.204162 235.483248 \r\nL 320.204162 236.442923 \r\nL 321.273901 233.563899 \r\nM 321.273901 233.244008 \r\nL 321.273901 231.644551 \r\nL 321.273901 236.442923 \r\nL 321.273901 236.442923 \r\nL 322.34364 231.324659 \r\nL 322.34364 235.80314 \r\nL 322.34364 230.045093 \r\nM 322.34364 231.644551 \r\nL 323.413379 234.843465 \r\nL 323.413379 210.211823 \r\nL 323.413379 236.442923 \r\nL 323.413379 236.442923 \r\nL 324.483118 234.843465 \r\nM 324.483118 236.442923 \r\nL 324.483118 235.80314 \r\nL 324.483118 236.442923 \r\nL 325.552857 236.442923 \r\nL 325.552857 236.442923 \r\nM 325.552857 236.442923 \r\nL 326.622596 236.442923 \r\nL 326.622596 236.442923 \r\nM 326.622596 236.442923 \r\nL 326.622596 236.123031 \r\nL 327.692335 236.123031 \r\nL 327.692335 236.442923 \r\nL 327.692335 236.442923 \r\nM 327.692335 236.442923 \r\nL 327.692335 235.80314 \r\nL 327.692335 236.442923 \r\nL 328.762074 236.442923 \r\nL 328.762074 235.80314 \r\nL 328.762074 236.442923 \r\nM 329.831813 229.725202 \r\nL 329.831813 216.609653 \r\nL 329.831813 235.163357 \r\nL 330.901552 233.883791 \r\nL 330.901552 212.770955 \r\nL 330.901552 228.765528 \r\nL 331.971291 231.964442 \r\nL 331.971291 235.80314 \r\nL 331.971291 210.531715 \r\nL 331.971291 228.765528 \r\nL 333.04103 235.483248 \r\nL 333.04103 236.442923 \r\nL 333.04103 215.649978 \r\nM 334.110769 229.725202 \r\nL 334.110769 210.531715 \r\nL 334.110769 236.442923 \r\nL 334.110769 229.405311 \r\nM 335.180508 231.004768 \r\nL 335.180508 236.442923 \r\nL 335.180508 182.381267 \r\nL 335.180508 218.848893 \r\nM 336.250247 236.442923 \r\nL 336.250247 233.244008 \r\nL 336.250247 236.442923 \r\nL 337.319986 236.442923 \r\nL 337.319986 225.246722 \r\nL 337.319986 236.442923 \r\nL 338.389725 230.684876 \r\nL 338.389725 214.050521 \r\nL 338.389725 236.442923 \r\nL 339.459464 223.647264 \r\nL 339.459464 236.442923 \r\nL 339.459464 230.364985 \r\nM 339.459464 234.843465 \r\nL 339.459464 236.123031 \r\nM 340.529203 226.526288 \r\nL 340.529203 236.442923 \r\nL 340.529203 235.80314 \r\nL 341.598942 226.846179 \r\nL 341.598942 236.442923 \r\nM 342.668681 236.442923 \r\nL 342.668681 227.485962 \r\nL 342.668681 236.442923 \r\nL 343.73842 232.604225 \r\nL 343.73842 236.442923 \r\nL 343.73842 220.44835 \r\nM 343.73842 236.442923 \r\nL 344.808159 236.442923 \r\nL 344.808159 224.92683 \r\nL 344.808159 236.442923 \r\nL 345.877898 220.44835 \r\nL 345.877898 236.442923 \r\nL 345.877898 235.80314 \r\nM 346.947637 236.442923 \r\nL 346.947637 234.523574 \r\nM 348.017376 236.442923 \r\nL 348.017376 233.244008 \r\nL 349.087115 236.442923 \r\nL 349.087115 236.442923 \r\nL 349.087115 235.80314 \r\nL 349.087115 236.123031 \r\nL 350.156854 236.442923 \r\nL 350.156854 236.442923 \r\nL 350.156854 235.483248 \r\nM 350.156854 236.442923 \r\nL 350.156854 235.163357 \r\nL 351.226593 234.203682 \r\nL 351.226593 230.045093 \r\nL 351.226593 236.442923 \r\nL 351.226593 235.163357 \r\nL 352.296332 233.244008 \r\nL 352.296332 235.80314 \r\nL 352.296332 234.523574 \r\nL 353.366071 220.44835 \r\nL 353.366071 235.80314 \r\nL 353.366071 234.843465 \r\nM 354.43581 223.647264 \r\nL 354.43581 235.163357 \r\nM 354.43581 235.80314 \r\nL 354.43581 232.284334 \r\nL 355.505549 235.163357 \r\nL 355.505549 233.883791 \r\nL 355.505549 236.442923 \r\nL 356.575288 236.442923 \r\nL 356.575288 236.442923 \r\nM 356.575288 236.442923 \r\nM 357.645027 236.442923 \r\nM 357.645027 236.442923 \r\nL 357.645027 235.80314 \r\nM 358.714766 230.684876 \r\nL 358.714766 236.442923 \r\nL 358.714766 226.846179 \r\nM 359.784505 236.442923 \r\nL 359.784505 234.523574 \r\nL 360.854245 236.442923 \r\nL 360.854245 236.442923 \r\nL 360.854245 232.924117 \r\nL 360.854245 236.442923 \r\nL 361.923984 236.442923 \r\nL 361.923984 236.442923 \r\nM 361.923984 235.80314 \r\nL 362.993723 236.442923 \r\nM 362.993723 236.442923 \r\nL 362.993723 235.80314 \r\nL 364.063462 227.485962 \r\nL 364.063462 236.442923 \r\nL 364.063462 236.442923 \r\nM 365.133201 226.206396 \r\nL 365.133201 234.203682 \r\nL 365.133201 214.690304 \r\nM 365.133201 226.846179 \r\nL 365.133201 225.886505 \r\nL 366.20294 236.442923 \r\nL 366.20294 214.690304 \r\nL 366.20294 234.843465 \r\nL 367.272679 234.843465 \r\nL 367.272679 233.244008 \r\nL 367.272679 236.442923 \r\nL 367.272679 236.442923 \r\nL 368.342418 233.244008 \r\nL 368.342418 220.44835 \r\nL 368.342418 236.442923 \r\nL 369.412157 223.967156 \r\nL 369.412157 236.442923 \r\nL 370.481896 234.843465 \r\nL 370.481896 236.442923 \r\nL 370.481896 159.668974 \r\nL 370.481896 236.442923 \r\nL 371.551635 236.442923 \r\nL 371.551635 227.805853 \r\nL 371.551635 236.442923 \r\nL 372.621374 214.050521 \r\nL 372.621374 236.442923 \r\nL 372.621374 236.442923 \r\nL 373.691113 236.442923 \r\nL 373.691113 236.442923 \r\nL 373.691113 233.244008 \r\nL 373.691113 236.442923 \r\nL 374.760852 108.486342 \r\nL 374.760852 236.442923 \r\nL 374.760852 234.203682 \r\nL 375.830591 236.442923 \r\nL 375.830591 210.851606 \r\nL 375.830591 234.523574 \r\nL 376.90033 209.572041 \r\nL 376.90033 198.37584 \r\nM 376.90033 217.889218 \r\nL 376.90033 234.843465 \r\nL 376.90033 216.929544 \r\nL 377.970069 236.442923 \r\nL 377.970069 235.483248 \r\nL 377.970069 236.442923 \r\nL 377.970069 226.846179 \r\nL 379.039808 226.846179 \r\nL 379.039808 235.80314 \r\nL 379.039808 232.604225 \r\nM 379.039808 236.442923 \r\nL 379.039808 234.523574 \r\nL 380.109547 236.123031 \r\nL 380.109547 236.442923 \r\nL 380.109547 236.442923 \r\nM 380.109547 236.442923 \r\nL 381.179286 223.647264 \r\nL 381.179286 236.442923 \r\nL 381.179286 231.964442 \r\nL 382.249025 236.442923 \r\nL 382.249025 226.846179 \r\nL 382.249025 229.085419 \r\nL 383.318764 236.442923 \r\nL 383.318764 236.442923 \r\nL 383.318764 226.846179 \r\nL 384.388503 236.442923 \r\nL 384.388503 236.442923 \r\nM 385.458242 232.604225 \r\nL 385.458242 236.442923 \r\nL 386.527981 234.843465 \r\nL 386.527981 236.442923 \r\nL 386.527981 228.445636 \r\nL 387.59772 236.442923 \r\nL 387.59772 236.442923 \r\nL 387.59772 234.523574 \r\nL 387.59772 236.123031 \r\nL 388.667459 235.163357 \r\nL 388.667459 236.442923 \r\nL 388.667459 236.442923 \r\nL 389.737198 236.442923 \r\nM 389.737198 234.523574 \r\nL 390.806937 236.442923 \r\nL 390.806937 236.442923 \r\nM 391.876676 236.442923 \r\nL 391.876676 234.843465 \r\nL 391.876676 236.442923 \r\nL 392.946415 236.442923 \r\nL 392.946415 236.442923 \r\nL 392.946415 225.566613 \r\nL 394.016154 236.442923 \r\nL 394.016154 236.442923 \r\nL 394.016154 231.644551 \r\nL 395.085893 236.442923 \r\nL 395.085893 234.203682 \r\nL 395.085893 236.442923 \r\nL 396.155632 236.442923 \r\nM 396.155632 236.442923 \r\nL 397.225371 231.964442 \r\nL 397.225371 236.442923 \r\nL 397.225371 236.442923 \r\nL 398.29511 236.442923 \r\nL 398.29511 236.442923 \r\nM 399.364849 233.883791 \r\nL 399.364849 236.442923 \r\nL 399.364849 229.405311 \r\nL 400.434588 223.007482 \r\nL 400.434588 236.442923 \r\nL 401.504327 223.007482 \r\nL 401.504327 236.442923 \r\nL 401.504327 232.604225 \r\nL 402.574066 232.284334 \r\nL 402.574066 236.442923 \r\nL 402.574066 236.123031 \r\nL 403.643805 236.442923 \r\nM 403.643805 234.523574 \r\nL 403.643805 236.442923 \r\nL 404.713544 233.563899 \r\nM 404.713544 236.442923 \r\nM 405.783283 236.442923 \r\nL 405.783283 236.123031 \r\nL 406.853022 218.529001 \r\nL 406.853022 236.442923 \r\nM 407.922761 220.44835 \r\nL 407.922761 236.442923 \r\nL 407.922761 236.442923 \r\nL 408.9925 233.883791 \r\nL 408.9925 236.442923 \r\nL 408.9925 222.047807 \r\nL 408.9925 222.047807 \r\n\" style=\"fill:none;stroke:#008fd5;stroke-width:4;\"/>\r\n   </g>\r\n   <g id=\"patch_3\">\r\n    <path d=\"M 19.6075 247.159286 \r\nL 19.6075 11.399286 \r\n\" style=\"fill:none;stroke:#f0f0f0;stroke-linecap:square;stroke-linejoin:miter;stroke-width:3;\"/>\r\n   </g>\r\n   <g id=\"patch_4\">\r\n    <path d=\"M 408.9925 247.159286 \r\nL 408.9925 11.399286 \r\n\" style=\"fill:none;stroke:#f0f0f0;stroke-linecap:square;stroke-linejoin:miter;stroke-width:3;\"/>\r\n   </g>\r\n   <g id=\"patch_5\">\r\n    <path d=\"M 19.6075 247.159286 \r\nL 408.9925 247.159286 \r\n\" style=\"fill:none;stroke:#f0f0f0;stroke-linecap:square;stroke-linejoin:miter;stroke-width:3;\"/>\r\n   </g>\r\n   <g id=\"patch_6\">\r\n    <path d=\"M 19.6075 11.399286 \r\nL 408.9925 11.399286 \r\n\" style=\"fill:none;stroke:#f0f0f0;stroke-linecap:square;stroke-linejoin:miter;stroke-width:3;\"/>\r\n   </g>\r\n   <g id=\"legend_1\">\r\n    <g id=\"patch_7\">\r\n     <path d=\"M 323.168125 43.148661 \r\nL 399.1925 43.148661 \r\nQ 401.9925 43.148661 401.9925 40.348661 \r\nL 401.9925 21.199286 \r\nQ 401.9925 18.399286 399.1925 18.399286 \r\nL 323.168125 18.399286 \r\nQ 320.368125 18.399286 320.368125 21.199286 \r\nL 320.368125 40.348661 \r\nQ 320.368125 43.148661 323.168125 43.148661 \r\nz\r\n\" style=\"fill:#f0f0f0;opacity:0.8;stroke:#cccccc;stroke-linejoin:miter;stroke-width:0.5;\"/>\r\n    </g>\r\n    <g id=\"line2d_18\">\r\n     <path d=\"M 325.968125 29.737099 \r\nL 353.968125 29.737099 \r\n\" style=\"fill:none;stroke:#008fd5;stroke-width:4;\"/>\r\n    </g>\r\n    <g id=\"line2d_19\"/>\r\n    <g id=\"text_10\">\r\n     <!-- prcp -->\r\n     <defs>\r\n      <path d=\"M 18.109375 8.203125 \r\nL 18.109375 -20.796875 \r\nL 9.078125 -20.796875 \r\nL 9.078125 54.6875 \r\nL 18.109375 54.6875 \r\nL 18.109375 46.390625 \r\nQ 20.953125 51.265625 25.265625 53.625 \r\nQ 29.59375 56 35.59375 56 \r\nQ 45.5625 56 51.78125 48.09375 \r\nQ 58.015625 40.1875 58.015625 27.296875 \r\nQ 58.015625 14.40625 51.78125 6.484375 \r\nQ 45.5625 -1.421875 35.59375 -1.421875 \r\nQ 29.59375 -1.421875 25.265625 0.953125 \r\nQ 20.953125 3.328125 18.109375 8.203125 \r\nz\r\nM 48.6875 27.296875 \r\nQ 48.6875 37.203125 44.609375 42.84375 \r\nQ 40.53125 48.484375 33.40625 48.484375 \r\nQ 26.265625 48.484375 22.1875 42.84375 \r\nQ 18.109375 37.203125 18.109375 27.296875 \r\nQ 18.109375 17.390625 22.1875 11.75 \r\nQ 26.265625 6.109375 33.40625 6.109375 \r\nQ 40.53125 6.109375 44.609375 11.75 \r\nQ 48.6875 17.390625 48.6875 27.296875 \r\nz\r\n\" id=\"DejaVuSans-112\"/>\r\n      <path d=\"M 41.109375 46.296875 \r\nQ 39.59375 47.171875 37.8125 47.578125 \r\nQ 36.03125 48 33.890625 48 \r\nQ 26.265625 48 22.1875 43.046875 \r\nQ 18.109375 38.09375 18.109375 28.8125 \r\nL 18.109375 0 \r\nL 9.078125 0 \r\nL 9.078125 54.6875 \r\nL 18.109375 54.6875 \r\nL 18.109375 46.1875 \r\nQ 20.953125 51.171875 25.484375 53.578125 \r\nQ 30.03125 56 36.53125 56 \r\nQ 37.453125 56 38.578125 55.875 \r\nQ 39.703125 55.765625 41.0625 55.515625 \r\nz\r\n\" id=\"DejaVuSans-114\"/>\r\n      <path d=\"M 48.78125 52.59375 \r\nL 48.78125 44.1875 \r\nQ 44.96875 46.296875 41.140625 47.34375 \r\nQ 37.3125 48.390625 33.40625 48.390625 \r\nQ 24.65625 48.390625 19.8125 42.84375 \r\nQ 14.984375 37.3125 14.984375 27.296875 \r\nQ 14.984375 17.28125 19.8125 11.734375 \r\nQ 24.65625 6.203125 33.40625 6.203125 \r\nQ 37.3125 6.203125 41.140625 7.25 \r\nQ 44.96875 8.296875 48.78125 10.40625 \r\nL 48.78125 2.09375 \r\nQ 45.015625 0.34375 40.984375 -0.53125 \r\nQ 36.96875 -1.421875 32.421875 -1.421875 \r\nQ 20.0625 -1.421875 12.78125 6.34375 \r\nQ 5.515625 14.109375 5.515625 27.296875 \r\nQ 5.515625 40.671875 12.859375 48.328125 \r\nQ 20.21875 56 33.015625 56 \r\nQ 37.15625 56 41.109375 55.140625 \r\nQ 45.0625 54.296875 48.78125 52.59375 \r\nz\r\n\" id=\"DejaVuSans-99\"/>\r\n     </defs>\r\n     <g transform=\"translate(365.168125 34.637099)scale(0.14 -0.14)\">\r\n      <use xlink:href=\"#DejaVuSans-112\"/>\r\n      <use x=\"63.476562\" xlink:href=\"#DejaVuSans-114\"/>\r\n      <use x=\"104.558594\" xlink:href=\"#DejaVuSans-99\"/>\r\n      <use x=\"159.539062\" xlink:href=\"#DejaVuSans-112\"/>\r\n     </g>\r\n    </g>\r\n   </g>\r\n  </g>\r\n </g>\r\n <defs>\r\n  <clipPath id=\"p9110f68e96\">\r\n   <rect height=\"235.76\" width=\"389.385\" x=\"19.6075\" y=\"11.399286\"/>\r\n  </clipPath>\r\n </defs>\r\n</svg>\r\n",
      "image/png": "[encoded data removed]"
     },
     "metadata": {}
    }
   ],
   "source": [
    "# Use Pandas Plotting with Matplotlib to plot the data\n",
    "\n",
    "measurement_df_1year.plot()\n",
    "plt.xticks([])\n",
    "plt.tight_layout()\n",
    "plt.show()\n",
    "\n",
    "# Rotate the xticks for the dates\n",
    "\n",
    "# plt.tick_params(\n",
    "#     axis='x',          # changes apply to the x-axis\n",
    "#     which='both',      # both major and minor ticks are affected\n",
    "#     bottom=False,      # ticks along the bottom edge are off\n",
    "#     top=False,         # ticks along the top edge are off\n",
    "#     labelbottom=False) # labels along the bottom edge are off"
   ]
  },
  {
   "cell_type": "code",
   "execution_count": 16,
   "metadata": {},
   "outputs": [],
   "source": [
    "# Perform a query to retrieve the data and precipitation scores\n",
    "\n",
    "\n",
    "# Save the query results as a Pandas DataFrame and set the index to the date column\n",
    "\n",
    "# Sort the dataframe by date\n",
    "\n",
    "# Use Pandas Plotting with Matplotlib to plot the data"
   ]
  },
  {
   "cell_type": "code",
   "execution_count": null,
   "metadata": {},
   "outputs": [],
   "source": []
  },
  {
   "cell_type": "code",
   "execution_count": 17,
   "metadata": {},
   "outputs": [],
   "source": [
    "# Use Pandas to calcualte the summary statistics for the precipitation data\n",
    "# Statistical analysis\n",
    "from scipy import stats\n",
    "from scipy import mean"
   ]
  },
  {
   "cell_type": "code",
   "execution_count": 22,
   "metadata": {},
   "outputs": [],
   "source": [
    "# Design a query to show how many stations are available in this dataset?\n",
    "# Perform a query to retrieve the data and precipitation scores\n",
    "\n",
    "stat_query = engine.execute('SELECT date , prcp FROM measurement')\n",
    "# meas_query\n",
    "\n",
    "# Save the query results as a Pandas DataFrame and set the index to the date column\n",
    "\n",
    "   ### trying mask ###\n",
    "measurement_df = pd.DataFrame(meas_query)\n",
    "measurement_df = measurement_df.rename(columns={0: 'date', 1: 'prcp'})\n",
    "measurement_df['date'] =  pd.to_datetime(measurement_df['date'], format='%Y-%m-%d')\n",
    "measurement_df.head()\n",
    "mask = (measurement_df['date'] > '2016-08-23') & (measurement_df['date'] <= '2017-08-23')\n",
    "measurement_df_1year = measurement_df.loc[mask]\n",
    "measurement_df_1year = measurement_df_1year.set_index(['date'])\n",
    "\n",
    "# Sort the dataframe by date\n",
    "measurement_df_1year.sort_index()\n",
    "measurement_df_1year.head()\n",
    "# measurement_df_1year.count()"
   ]
  },
  {
   "cell_type": "code",
   "execution_count": 23,
   "metadata": {},
   "outputs": [],
   "source": [
    "# What are the most active stations? (i.e. what stations have the most rows)?\n",
    "# List the stations and the counts in descending order.\n"
   ]
  },
  {
   "cell_type": "code",
   "execution_count": 24,
   "metadata": {},
   "outputs": [],
   "source": [
    "# Using the station id from the previous query, calculate the lowest temperature recorded, \n",
    "# highest temperature recorded, and average temperature of the most active station?\n"
   ]
  },
  {
   "cell_type": "code",
   "execution_count": 25,
   "metadata": {},
   "outputs": [],
   "source": [
    "# Choose the station with the highest number of temperature observations.\n",
    "# Query the last 12 months of temperature observation data for this station and plot the results as a histogram\n"
   ]
  },
  {
   "cell_type": "markdown",
   "metadata": {},
   "source": [
    "## Bonus Challenge Assignment"
   ]
  },
  {
   "cell_type": "code",
   "execution_count": 26,
   "metadata": {},
   "outputs": [
    {
     "output_type": "stream",
     "name": "stdout",
     "text": "[(62.0, 69.57142857142857, 74.0)]\n"
    }
   ],
   "source": [
    "# This function called `calc_temps` will accept start date and end date in the format '%Y-%m-%d' \n",
    "# and return the minimum, average, and maximum temperatures for that range of dates\n",
    "def calc_temps(start_date, end_date):\n",
    "    \"\"\"TMIN, TAVG, and TMAX for a list of dates.\n",
    "    \n",
    "    Args:\n",
    "        start_date (string): A date string in the format %Y-%m-%d\n",
    "        end_date (string): A date string in the format %Y-%m-%d\n",
    "        \n",
    "    Returns:\n",
    "        TMIN, TAVE, and TMAX\n",
    "    \"\"\"\n",
    "    \n",
    "    return session.query(func.min(Measurement.tobs), func.avg(Measurement.tobs), func.max(Measurement.tobs)).\\\n",
    "        filter(Measurement.date >= start_date).filter(Measurement.date <= end_date).all()\n",
    "\n",
    "# function usage example\n",
    "print(calc_temps('2012-02-28', '2012-03-05'))"
   ]
  },
  {
   "cell_type": "code",
   "execution_count": 27,
   "metadata": {},
   "outputs": [],
   "source": [
    "# Use your previous function `calc_temps` to calculate the tmin, tavg, and tmax \n",
    "# for your trip using the previous year's data for those same dates.\n"
   ]
  },
  {
   "cell_type": "code",
   "execution_count": 28,
   "metadata": {},
   "outputs": [],
   "source": [
    "# Plot the results from your previous query as a bar chart. \n",
    "# Use \"Trip Avg Temp\" as your Title\n",
    "# Use the average temperature for the y value\n",
    "# Use the peak-to-peak (tmax-tmin) value as the y error bar (yerr)\n"
   ]
  },
  {
   "cell_type": "code",
   "execution_count": 29,
   "metadata": {},
   "outputs": [],
   "source": [
    "# Calculate the total amount of rainfall per weather station for your trip dates using the previous year's matching dates.\n",
    "# Sort this in descending order by precipitation amount and list the station, name, latitude, longitude, and elevation\n",
    "\n"
   ]
  },
  {
   "cell_type": "code",
   "execution_count": 30,
   "metadata": {},
   "outputs": [
    {
     "output_type": "execute_result",
     "data": {
      "text/plain": "[(62.0, 69.15384615384616, 77.0)]"
     },
     "metadata": {},
     "execution_count": 30
    }
   ],
   "source": [
    "# Create a query that will calculate the daily normals \n",
    "# (i.e. the averages for tmin, tmax, and tavg for all historic data matching a specific month and day)\n",
    "\n",
    "def daily_normals(date):\n",
    "    \"\"\"Daily Normals.\n",
    "    \n",
    "    Args:\n",
    "        date (str): A date string in the format '%m-%d'\n",
    "        \n",
    "    Returns:\n",
    "        A list of tuples containing the daily normals, tmin, tavg, and tmax\n",
    "    \n",
    "    \"\"\"\n",
    "    \n",
    "    sel = [func.min(Measurement.tobs), func.avg(Measurement.tobs), func.max(Measurement.tobs)]\n",
    "    return session.query(*sel).filter(func.strftime(\"%m-%d\", Measurement.date) == date).all()\n",
    "    \n",
    "daily_normals(\"01-01\")"
   ]
  },
  {
   "cell_type": "code",
   "execution_count": 31,
   "metadata": {},
   "outputs": [],
   "source": [
    "# calculate the daily normals for your trip\n",
    "# push each tuple of calculations into a list called `normals`\n",
    "\n",
    "# Set the start and end date of the trip\n",
    "\n",
    "# Use the start and end date to create a range of dates\n",
    "\n",
    "# Stip off the year and save a list of %m-%d strings\n",
    "\n",
    "# Loop through the list of %m-%d strings and calculate the normals for each date\n"
   ]
  },
  {
   "cell_type": "code",
   "execution_count": 32,
   "metadata": {},
   "outputs": [],
   "source": [
    "# Load the previous query results into a Pandas DataFrame and add the `trip_dates` range as the `date` index\n"
   ]
  },
  {
   "cell_type": "code",
   "execution_count": 33,
   "metadata": {},
   "outputs": [],
   "source": [
    "# Plot the daily normals as an area plot with `stacked=False`\n"
   ]
  }
 ],
 "metadata": {
  "kernel_info": {
   "name": "python3"
  },
  "kernelspec": {
   "display_name": "Python 3.7.4 64-bit ('base': conda)",
   "language": "python",
   "name": "python37464bitbaseconda3e02860929174060b3bf8ce9b4493e8c"
  },
  "language_info": {
   "codemirror_mode": {
    "name": "ipython",
    "version": 3
   },
   "file_extension": ".py",
   "mimetype": "text/x-python",
   "name": "python",
   "nbconvert_exporter": "python",
   "pygments_lexer": "ipython3",
   "version": "3.7.4-final"
  },
  "nteract": {
   "version": "0.12.3"
  },
  "varInspector": {
   "cols": {
    "lenName": 16,
    "lenType": 16,
    "lenVar": 40
   },
   "kernels_config": {
    "python": {
     "delete_cmd_postfix": "",
     "delete_cmd_prefix": "del ",
     "library": "var_list.py",
     "varRefreshCmd": "print(var_dic_list())"
    },
    "r": {
     "delete_cmd_postfix": ") ",
     "delete_cmd_prefix": "rm(",
     "library": "var_list.r",
     "varRefreshCmd": "cat(var_dic_list()) "
    }
   },
   "types_to_exclude": [
    "module",
    "function",
    "builtin_function_or_method",
    "instance",
    "_Feature"
   ],
   "window_display": false
  }
 },
 "nbformat": 4,
 "nbformat_minor": 2
}